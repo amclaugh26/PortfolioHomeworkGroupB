{
 "cells": [
  {
   "cell_type": "markdown",
   "id": "47148332",
   "metadata": {},
   "source": [
    "# Smart Beta and Factor Investing"
   ]
  },
  {
   "cell_type": "markdown",
   "id": "8ade9bd2",
   "metadata": {},
   "source": [
    "## 2. The Factors"
   ]
  },
  {
   "cell_type": "markdown",
   "id": "9dfbb416",
   "metadata": {},
   "source": [
    "# Data\n",
    "\n",
    "Use the data found in `data/factor_pricing_data.xlsx`.\n",
    "\n",
    "**Factors:** Monthly excess return data for the overall equity market, $\\tilde{r}^{MKT}$.\n",
    "\n",
    "- The column header to the market factor is `MKT` rather than `MKT-RF`, but it is indeed already in excess return form.\n",
    "- The sheet also contains data on five additional factors.\n",
    "- All factor data is already provided as excess returns.\n"
   ]
  },
  {
   "cell_type": "markdown",
   "id": "40481326",
   "metadata": {},
   "source": [
    "import pandas as pd\n",
    "import numpy as np\n",
    "import matplotlib.pyplot as plt\n",
    "import seaborn as sns\n",
    "import statsmodels.api as sm\n",
    "from sklearn.linear_model import LinearRegression\n",
    "from scipy.stats import norm\n",
    "\n",
    "#read data\n",
    "factors = pd.read_excel(\"data/dfa_analysis_data.xlsx\", sheet_name=\"factors\").drop('RF', axis=1)\n",
    "factors.set_index('Date',inplace=True)\n",
    "tot_ret = pd.read_excel(\"data/dfa_analysis_data.xlsx\", sheet_name=\"portfolios (total returns)\")\n",
    "tot_ret.set_index('Date',inplace=True)\n",
    "factors.head(5)"
   ]
  },
  {
   "cell_type": "markdown",
   "id": "9d6a17fa",
   "metadata": {},
   "source": []
  },
  {
   "cell_type": "code",
   "execution_count": 54,
   "id": "08665c26",
   "metadata": {},
   "outputs": [
    {
     "data": {
      "text/html": [
       "<div>\n",
       "<style scoped>\n",
       "    .dataframe tbody tr th:only-of-type {\n",
       "        vertical-align: middle;\n",
       "    }\n",
       "\n",
       "    .dataframe tbody tr th {\n",
       "        vertical-align: top;\n",
       "    }\n",
       "\n",
       "    .dataframe thead th {\n",
       "        text-align: right;\n",
       "    }\n",
       "</style>\n",
       "<table border=\"1\" class=\"dataframe\">\n",
       "  <thead>\n",
       "    <tr style=\"text-align: right;\">\n",
       "      <th></th>\n",
       "      <th>MKT</th>\n",
       "      <th>SMB</th>\n",
       "      <th>HML</th>\n",
       "      <th>RMW</th>\n",
       "      <th>CMA</th>\n",
       "      <th>UMD</th>\n",
       "    </tr>\n",
       "    <tr>\n",
       "      <th>Date</th>\n",
       "      <th></th>\n",
       "      <th></th>\n",
       "      <th></th>\n",
       "      <th></th>\n",
       "      <th></th>\n",
       "      <th></th>\n",
       "    </tr>\n",
       "  </thead>\n",
       "  <tbody>\n",
       "    <tr>\n",
       "      <th>1980-01-31</th>\n",
       "      <td>0.0550</td>\n",
       "      <td>0.0188</td>\n",
       "      <td>0.0185</td>\n",
       "      <td>-0.0184</td>\n",
       "      <td>0.0189</td>\n",
       "      <td>0.0745</td>\n",
       "    </tr>\n",
       "    <tr>\n",
       "      <th>1980-02-29</th>\n",
       "      <td>-0.0123</td>\n",
       "      <td>-0.0162</td>\n",
       "      <td>0.0059</td>\n",
       "      <td>-0.0095</td>\n",
       "      <td>0.0292</td>\n",
       "      <td>0.0789</td>\n",
       "    </tr>\n",
       "    <tr>\n",
       "      <th>1980-03-31</th>\n",
       "      <td>-0.1289</td>\n",
       "      <td>-0.0697</td>\n",
       "      <td>-0.0096</td>\n",
       "      <td>0.0182</td>\n",
       "      <td>-0.0105</td>\n",
       "      <td>-0.0958</td>\n",
       "    </tr>\n",
       "    <tr>\n",
       "      <th>1980-04-30</th>\n",
       "      <td>0.0396</td>\n",
       "      <td>0.0105</td>\n",
       "      <td>0.0103</td>\n",
       "      <td>-0.0218</td>\n",
       "      <td>0.0034</td>\n",
       "      <td>-0.0048</td>\n",
       "    </tr>\n",
       "    <tr>\n",
       "      <th>1980-05-31</th>\n",
       "      <td>0.0526</td>\n",
       "      <td>0.0200</td>\n",
       "      <td>0.0038</td>\n",
       "      <td>0.0043</td>\n",
       "      <td>-0.0063</td>\n",
       "      <td>-0.0118</td>\n",
       "    </tr>\n",
       "  </tbody>\n",
       "</table>\n",
       "</div>"
      ],
      "text/plain": [
       "               MKT     SMB     HML     RMW     CMA     UMD\n",
       "Date                                                      \n",
       "1980-01-31  0.0550  0.0188  0.0185 -0.0184  0.0189  0.0745\n",
       "1980-02-29 -0.0123 -0.0162  0.0059 -0.0095  0.0292  0.0789\n",
       "1980-03-31 -0.1289 -0.0697 -0.0096  0.0182 -0.0105 -0.0958\n",
       "1980-04-30  0.0396  0.0105  0.0103 -0.0218  0.0034 -0.0048\n",
       "1980-05-31  0.0526  0.0200  0.0038  0.0043 -0.0063 -0.0118"
      ]
     },
     "execution_count": 54,
     "metadata": {},
     "output_type": "execute_result"
    }
   ],
   "source": [
    "import pandas as pd\n",
    "import numpy as np\n",
    "import matplotlib.pyplot as plt\n",
    "import seaborn as sns\n",
    "import statsmodels.api as sm\n",
    "from sklearn.linear_model import LinearRegression\n",
    "from scipy.stats import norm\n",
    "\n",
    "FREQ = 12 # Annualization factor since we have monthly data\n",
    "#read data\n",
    "factors = pd.read_excel(\"data/factor_pricing_data_monthly.xlsx\", sheet_name=\"factors (excess returns)\")\n",
    "factors.set_index('Date',inplace=True)\n",
    "\n",
    "factors.head()"
   ]
  },
  {
   "cell_type": "markdown",
   "id": "733f6e25",
   "metadata": {},
   "source": [
    "## 1.\n",
    "\n",
    "Analyze the factors, similar to how you analyzed the three Fama-French factors in `Homework 4`.\n",
    "\n",
    "You now have three additional factors, so let’s compare their univariate statistics.\n",
    "\n",
    "- mean  \n",
    "- volatility  \n",
    "- Sharpe"
   ]
  },
  {
   "cell_type": "code",
   "execution_count": 55,
   "id": "b98d6eee",
   "metadata": {},
   "outputs": [],
   "source": [
    "# Helper function\n",
    "def calc_stats(rets, FREQ):\n",
    "    mean = rets.mean() * FREQ\n",
    "    vol = rets.std() * np.sqrt(FREQ)\n",
    "    sharpe = mean / vol\n",
    "    results = {'Mean' : mean, 'Volatility' : vol, 'Sharpe' : sharpe}\n",
    "    return pd.DataFrame(results)"
   ]
  },
  {
   "cell_type": "code",
   "execution_count": 56,
   "id": "97c3b1ba",
   "metadata": {},
   "outputs": [],
   "source": [
    "# Helper function\n",
    "def display_df(df, decimals):\n",
    "    # display in percentages\n",
    "    display(df.style.format(f\"{{:.{decimals}%}}\"))\n"
   ]
  },
  {
   "cell_type": "code",
   "execution_count": 57,
   "id": "33880e69",
   "metadata": {},
   "outputs": [
    {
     "data": {
      "text/html": [
       "<style type=\"text/css\">\n",
       "</style>\n",
       "<table id=\"T_11ede\">\n",
       "  <thead>\n",
       "    <tr>\n",
       "      <th class=\"blank level0\" >&nbsp;</th>\n",
       "      <th id=\"T_11ede_level0_col0\" class=\"col_heading level0 col0\" >Mean</th>\n",
       "      <th id=\"T_11ede_level0_col1\" class=\"col_heading level0 col1\" >Volatility</th>\n",
       "      <th id=\"T_11ede_level0_col2\" class=\"col_heading level0 col2\" >Sharpe</th>\n",
       "    </tr>\n",
       "  </thead>\n",
       "  <tbody>\n",
       "    <tr>\n",
       "      <th id=\"T_11ede_level0_row0\" class=\"row_heading level0 row0\" >MKT</th>\n",
       "      <td id=\"T_11ede_row0_col0\" class=\"data row0 col0\" >8.76%</td>\n",
       "      <td id=\"T_11ede_row0_col1\" class=\"data row0 col1\" >15.61%</td>\n",
       "      <td id=\"T_11ede_row0_col2\" class=\"data row0 col2\" >56.07%</td>\n",
       "    </tr>\n",
       "    <tr>\n",
       "      <th id=\"T_11ede_level0_row1\" class=\"row_heading level0 row1\" >SMB</th>\n",
       "      <td id=\"T_11ede_row1_col0\" class=\"data row1 col0\" >0.61%</td>\n",
       "      <td id=\"T_11ede_row1_col1\" class=\"data row1 col1\" >10.13%</td>\n",
       "      <td id=\"T_11ede_row1_col2\" class=\"data row1 col2\" >6.04%</td>\n",
       "    </tr>\n",
       "    <tr>\n",
       "      <th id=\"T_11ede_level0_row2\" class=\"row_heading level0 row2\" >HML</th>\n",
       "      <td id=\"T_11ede_row2_col0\" class=\"data row2 col0\" >2.60%</td>\n",
       "      <td id=\"T_11ede_row2_col1\" class=\"data row2 col1\" >10.88%</td>\n",
       "      <td id=\"T_11ede_row2_col2\" class=\"data row2 col2\" >23.92%</td>\n",
       "    </tr>\n",
       "    <tr>\n",
       "      <th id=\"T_11ede_level0_row3\" class=\"row_heading level0 row3\" >RMW</th>\n",
       "      <td id=\"T_11ede_row3_col0\" class=\"data row3 col0\" >4.40%</td>\n",
       "      <td id=\"T_11ede_row3_col1\" class=\"data row3 col1\" >8.29%</td>\n",
       "      <td id=\"T_11ede_row3_col2\" class=\"data row3 col2\" >53.11%</td>\n",
       "    </tr>\n",
       "    <tr>\n",
       "      <th id=\"T_11ede_level0_row4\" class=\"row_heading level0 row4\" >CMA</th>\n",
       "      <td id=\"T_11ede_row4_col0\" class=\"data row4 col0\" >2.83%</td>\n",
       "      <td id=\"T_11ede_row4_col1\" class=\"data row4 col1\" >7.25%</td>\n",
       "      <td id=\"T_11ede_row4_col2\" class=\"data row4 col2\" >39.03%</td>\n",
       "    </tr>\n",
       "    <tr>\n",
       "      <th id=\"T_11ede_level0_row5\" class=\"row_heading level0 row5\" >UMD</th>\n",
       "      <td id=\"T_11ede_row5_col0\" class=\"data row5 col0\" >6.03%</td>\n",
       "      <td id=\"T_11ede_row5_col1\" class=\"data row5 col1\" >15.34%</td>\n",
       "      <td id=\"T_11ede_row5_col2\" class=\"data row5 col2\" >39.33%</td>\n",
       "    </tr>\n",
       "  </tbody>\n",
       "</table>\n"
      ],
      "text/plain": [
       "<pandas.io.formats.style.Styler at 0x171caf9e080>"
      ]
     },
     "metadata": {},
     "output_type": "display_data"
    }
   ],
   "source": [
    "# Main code\n",
    "stats = calc_stats(factors, FREQ)\n",
    "display_df(stats, 2)\n"
   ]
  },
  {
   "cell_type": "markdown",
   "id": "7fbc7cba",
   "metadata": {},
   "source": [
    "## 2.\n",
    "\n",
    "Based on the factor statistics above, answer the following.\n",
    "\n",
    "- Does each factor have a positive risk premium (positive expected excess return)?\n",
    "\n",
    "- How have the factors performed since the time of the case (2015–present)?"
   ]
  },
  {
   "cell_type": "code",
   "execution_count": 58,
   "id": "f488b2cd",
   "metadata": {},
   "outputs": [
    {
     "data": {
      "text/html": [
       "<style type=\"text/css\">\n",
       "</style>\n",
       "<table id=\"T_3d045\">\n",
       "  <thead>\n",
       "    <tr>\n",
       "      <th class=\"blank level0\" >&nbsp;</th>\n",
       "      <th id=\"T_3d045_level0_col0\" class=\"col_heading level0 col0\" >Mean</th>\n",
       "      <th id=\"T_3d045_level0_col1\" class=\"col_heading level0 col1\" >Volatility</th>\n",
       "      <th id=\"T_3d045_level0_col2\" class=\"col_heading level0 col2\" >Sharpe</th>\n",
       "    </tr>\n",
       "  </thead>\n",
       "  <tbody>\n",
       "    <tr>\n",
       "      <th id=\"T_3d045_level0_row0\" class=\"row_heading level0 row0\" >MKT</th>\n",
       "      <td id=\"T_3d045_row0_col0\" class=\"data row0 col0\" >11.79%</td>\n",
       "      <td id=\"T_3d045_row0_col1\" class=\"data row0 col1\" >15.74%</td>\n",
       "      <td id=\"T_3d045_row0_col2\" class=\"data row0 col2\" >74.91%</td>\n",
       "    </tr>\n",
       "    <tr>\n",
       "      <th id=\"T_3d045_level0_row1\" class=\"row_heading level0 row1\" >SMB</th>\n",
       "      <td id=\"T_3d045_row1_col0\" class=\"data row1 col0\" >-2.38%</td>\n",
       "      <td id=\"T_3d045_row1_col1\" class=\"data row1 col1\" >10.32%</td>\n",
       "      <td id=\"T_3d045_row1_col2\" class=\"data row1 col2\" >-23.05%</td>\n",
       "    </tr>\n",
       "    <tr>\n",
       "      <th id=\"T_3d045_level0_row2\" class=\"row_heading level0 row2\" >HML</th>\n",
       "      <td id=\"T_3d045_row2_col0\" class=\"data row2 col0\" >-1.63%</td>\n",
       "      <td id=\"T_3d045_row2_col1\" class=\"data row2 col1\" >12.99%</td>\n",
       "      <td id=\"T_3d045_row2_col2\" class=\"data row2 col2\" >-12.55%</td>\n",
       "    </tr>\n",
       "    <tr>\n",
       "      <th id=\"T_3d045_level0_row3\" class=\"row_heading level0 row3\" >RMW</th>\n",
       "      <td id=\"T_3d045_row3_col0\" class=\"data row3 col0\" >4.00%</td>\n",
       "      <td id=\"T_3d045_row3_col1\" class=\"data row3 col1\" >7.26%</td>\n",
       "      <td id=\"T_3d045_row3_col2\" class=\"data row3 col2\" >55.09%</td>\n",
       "    </tr>\n",
       "    <tr>\n",
       "      <th id=\"T_3d045_level0_row4\" class=\"row_heading level0 row4\" >CMA</th>\n",
       "      <td id=\"T_3d045_row4_col0\" class=\"data row4 col0\" >-0.91%</td>\n",
       "      <td id=\"T_3d045_row4_col1\" class=\"data row4 col1\" >8.21%</td>\n",
       "      <td id=\"T_3d045_row4_col2\" class=\"data row4 col2\" >-11.14%</td>\n",
       "    </tr>\n",
       "    <tr>\n",
       "      <th id=\"T_3d045_level0_row5\" class=\"row_heading level0 row5\" >UMD</th>\n",
       "      <td id=\"T_3d045_row5_col0\" class=\"data row5 col0\" >2.01%</td>\n",
       "      <td id=\"T_3d045_row5_col1\" class=\"data row5 col1\" >13.74%</td>\n",
       "      <td id=\"T_3d045_row5_col2\" class=\"data row5 col2\" >14.64%</td>\n",
       "    </tr>\n",
       "  </tbody>\n",
       "</table>\n"
      ],
      "text/plain": [
       "<pandas.io.formats.style.Styler at 0x171caf9ffa0>"
      ]
     },
     "metadata": {},
     "output_type": "display_data"
    }
   ],
   "source": [
    "# Code for post 2015 stats analysis\n",
    "factors_post_2015 = factors.loc['2015-01-01':]\n",
    "post_2015_stats = calc_stats(factors_post_2015, FREQ)\n",
    "display_df(post_2015_stats, 2)"
   ]
  },
  {
   "cell_type": "markdown",
   "id": "e06248ff",
   "metadata": {},
   "source": [
    "* All six factors had positive average excess returns over the full period — i.e., positive risk premia."
   ]
  },
  {
   "cell_type": "markdown",
   "id": "7cee80ee",
   "metadata": {},
   "source": [
    "* Factor performance Since 2015\n",
    "    * Only MKT, RMW and UMD have remained positive \n",
    "    * SMB, HML and CMA have shown a negative risk permium\n",
    "\n",
    "However, when considering the Sharpe ratio, only MKT and RMW have delivered stronger risk-adjusted performance than in the full-sample period."
   ]
  },
  {
   "cell_type": "markdown",
   "id": "276483fb",
   "metadata": {},
   "source": [
    "## 3.\n",
    "\n",
    "Report the correlation matrix across the six factors.\n",
    "\n",
    "- Does the construction method succeed in keeping correlations small?\n",
    "\n",
    "- Fama and French say that HML is somewhat redundant in their 5-factor model. Does this seem to be the case?"
   ]
  },
  {
   "cell_type": "code",
   "execution_count": 59,
   "id": "202f563a",
   "metadata": {},
   "outputs": [],
   "source": [
    "# Helper function to plot a corr matrix of returns\n",
    "def plot_correlation_matrix(rets):\n",
    "    corr = rets.corr()\n",
    "    mask = np.triu(np.ones_like(corr, dtype=bool))\n",
    "\n",
    "    plt.figure(figsize=(8, 6))\n",
    "    sns.heatmap(\n",
    "        corr,\n",
    "        mask=mask,\n",
    "        annot=True,\n",
    "        fmt=\".2f\",\n",
    "        cmap=\"coolwarm\",\n",
    "        vmin=-1, vmax=1,\n",
    "        center=0,\n",
    "        square=True,\n",
    "        linewidths=0.5,\n",
    "        cbar_kws={\"shrink\": 0.8, \"label\": \"Correlation\"}\n",
    "    )\n",
    "    plt.title(\"Factor Correlation Matrix\", fontsize=14, pad=10)\n",
    "    plt.xticks(rotation=45, ha='right')\n",
    "    plt.yticks(rotation=0)\n",
    "    plt.tight_layout()\n",
    "    plt.show()"
   ]
  },
  {
   "cell_type": "code",
   "execution_count": 60,
   "id": "d7d0b2b5",
   "metadata": {},
   "outputs": [
    {
     "data": {
      "image/png": "[encoded data removed]",
      "text/plain": [
       "<Figure size 800x600 with 2 Axes>"
      ]
     },
     "metadata": {},
     "output_type": "display_data"
    }
   ],
   "source": [
    "plot_correlation_matrix(factors)"
   ]
  },
  {
   "cell_type": "markdown",
   "id": "041b028d",
   "metadata": {},
   "source": [
    "- The factor correlations are generally low, indicating that the construction method successfully keeps the factors distinct. \n",
    "The only noticeable correlation is between **CMA** and **HML** (≈ 0.68), while most others are close to zero or slightly negative.\n",
    "This suggests that the factors capture different sources of risk, providing good diversification.  \n",
    "- **HML** is not redundant. It remains weakly correlated with most factors, except **CMA**, which is acceptable given their similar value and investment focus.\n"
   ]
  },
  {
   "cell_type": "markdown",
   "id": "406a6842",
   "metadata": {},
   "source": [
    "### 4. Tangency Portfolio of Factors\n",
    "\n",
    "Report the **tangency weights** for a portfolio of these six factors.\n",
    "\n",
    "- Which factors seem most important? And least?\n",
    "- Are the factors with low mean returns still useful?\n",
    "- Re-do the tangency portfolio, but this time only include **MKT**, **SMB**, **HML**, and **UMD**.  \n",
    "  Which factors get high or low tangency weights now?\n",
    "\n",
    "What do you conclude about the importance or unimportance of these styles?\n"
   ]
  },
  {
   "cell_type": "code",
   "execution_count": 61,
   "id": "846ce9e1",
   "metadata": {},
   "outputs": [],
   "source": [
    "def tangency_weights(rets, FREQ):\n",
    "    columns = rets.columns\n",
    "    Sigma = rets.cov().values\n",
    "    mu = rets.mean().values\n",
    "\n",
    "    unscaled_weights = np.linalg.pinv(Sigma) @ mu\n",
    "    weights = unscaled_weights / unscaled_weights.sum()\n",
    "\n",
    "    return pd.Series(weights, index= columns)"
   ]
  },
  {
   "cell_type": "code",
   "execution_count": 62,
   "id": "3e2ad452",
   "metadata": {},
   "outputs": [],
   "source": [
    "def plot_weights(weights, title, color='skyblue'):\n",
    "    plt.figure(figsize=(8,4))\n",
    "    plt.bar(weights.index, weights.values, color=color, edgecolor='black')\n",
    "    plt.title(title)\n",
    "    plt.ylabel(\"Weight\")\n",
    "    plt.xlabel(\"Factor\")\n",
    "    plt.grid(axis='y', linestyle='--', alpha=0.7)\n",
    "    plt.tight_layout()\n",
    "    plt.show()"
   ]
  },
  {
   "cell_type": "code",
   "execution_count": 63,
   "id": "ca2de763",
   "metadata": {},
   "outputs": [],
   "source": [
    "def plot_comparison(combined_df, title=\"Tangency Portfolio Comparison\", colors=('skyblue', 'salmon')):\n",
    "    plt.figure(figsize=(8,4))\n",
    "    combined_df.plot(kind='bar', color=colors, edgecolor='black', figsize=(8,4))\n",
    "    plt.title(title)\n",
    "    plt.ylabel(\"Weight\")\n",
    "    plt.xlabel(\"Factor\")\n",
    "    plt.grid(axis='y', linestyle='--', alpha=0.7)\n",
    "    plt.legend(title=\"Portfolio\")\n",
    "    plt.tight_layout()\n",
    "    plt.show()"
   ]
  },
  {
   "cell_type": "code",
   "execution_count": 64,
   "id": "93ea5dd1",
   "metadata": {},
   "outputs": [
    {
     "data": {
      "image/png": "[encoded data removed]",
      "text/plain": [
       "<Figure size 800x400 with 1 Axes>"
      ]
     },
     "metadata": {},
     "output_type": "display_data"
    }
   ],
   "source": [
    "weights_6_factors = tangency_weights(factors, 12)\n",
    "plot_weights(weights_6_factors, 'Tangency portfolio using all 6 factors')\n"
   ]
  },
  {
   "cell_type": "markdown",
   "id": "7ad7793d",
   "metadata": {},
   "source": [
    "- **MKT**, **RMW**, and **CMA** have the largest weights in the 6-factor tangency portfolio, indicating they are the most important contributors to risk-adjusted performance.   **UMD**, **HML**, and **SMB** have smaller weights, suggesting they play a minor role in improving portfolio efficiency.\n"
   ]
  },
  {
   "cell_type": "markdown",
   "id": "0d541d0b",
   "metadata": {},
   "source": [
    "- Factors with low mean returns can still provide valuable diversification benefits. For example, **CMA** has a relatively low mean return (around 2.83%) but receives a high weight in the tangency portfolio, indicating it improves the portfolio’s overall risk-adjusted performance.\n"
   ]
  },
  {
   "cell_type": "code",
   "execution_count": 65,
   "id": "66cb3bcc",
   "metadata": {},
   "outputs": [
    {
     "data": {
      "image/png": "[encoded data removed]",
      "text/plain": [
       "<Figure size 800x400 with 1 Axes>"
      ]
     },
     "metadata": {},
     "output_type": "display_data"
    }
   ],
   "source": [
    "weights_4_factors = tangency_weights(factors[['MKT', 'SMB', 'HML', 'UMD']], 12)\n",
    "plot_weights(weights_4_factors, 'Tangency Portfolio using only MKT, SMB, HML and UMD', 'salmon')\n"
   ]
  },
  {
   "cell_type": "markdown",
   "id": "df403f5e",
   "metadata": {},
   "source": [
    "- After reducing the tangency portfolio to only 4 factors (**MKT**, **SMB**, **HML**, and **UMD**), the weights shift toward **HML** and slightly toward **MKT** and **UMD**. **SMB** decreases sharply and even takes a small negative weight, indicating that the size factor contributes little to the portfolio’s risk-adjusted performance in this restricted set.\n"
   ]
  },
  {
   "cell_type": "code",
   "execution_count": 66,
   "id": "12b4285e",
   "metadata": {},
   "outputs": [
    {
     "data": {
      "text/plain": [
       "<Figure size 800x400 with 0 Axes>"
      ]
     },
     "metadata": {},
     "output_type": "display_data"
    },
    {
     "data": {
      "image/png": "[encoded data removed]",
      "text/plain": [
       "<Figure size 800x400 with 1 Axes>"
      ]
     },
     "metadata": {},
     "output_type": "display_data"
    }
   ],
   "source": [
    "combined_weights_df =  pd.concat([weights_6_factors.rename(\"6 Factors\"),weights_4_factors.rename(\"4 Factors (MKT/SMB/HML/UMD)\")], axis=1)\n",
    "plot_comparison(combined_weights_df)"
   ]
  },
  {
   "cell_type": "markdown",
   "id": "0b1f9260",
   "metadata": {},
   "source": [
    "### Conclusion\n",
    "\n",
    "- The most important styles are **MKT**, **RMW**, and **CMA**, as they consistently receive the highest weights in the tangency portfolio.  \n",
    "    - These factors contribute the most to improving the portfolio’s Sharpe ratio, indicating strong and distinct sources of risk premia.  \n",
    "- **HML**, **SMB**, and **UMD** appear less important, as they receive small or even negative weights, suggesting limited incremental benefit once other factors are included.  \n",
    "- Overall, profitability (**RMW**) and investment (**CMA**) factors play a key role in enhancing portfolio efficiency, while traditional size and value factors (**SMB**, **HML**) add less value in the recent period.\n"
   ]
  },
  {
   "cell_type": "markdown",
   "id": "60f17c79",
   "metadata": {},
   "source": [
    "## 3. Testing Modern LPMS"
   ]
  },
  {
   "cell_type": "markdown",
   "id": "e879c05b",
   "metadata": {},
   "source": [
    "Consider the following factor models:\n",
    "\n",
    "- **CAPM:** MKT  \n",
    "- **Fama-French 3F:** MKT, SMB, HML  \n",
    "- **Fama-French 5F:** MKT, SMB, HML, RMW, CMA  \n",
    "- **AQR:** MKT, HML, RMW, UMD  \n",
    "\n",
    "Our labeling of the last model as the **AQR** model is just for concreteness.  \n",
    "The firm is well-known for these factors, and an unused case study discusses that further."
   ]
  },
  {
   "cell_type": "markdown",
   "id": "554a4ea8",
   "metadata": {},
   "source": [
    "For instance, for the AQR model:\n",
    "\n",
    "\\[\n",
    "E[r^i] = \\beta_i^{MKT} E[f^{MKT}] + \\beta_i^{HML} E[f^{HML}] + \\beta_i^{RMW} E[f^{RMW}] + \\beta_i^{UMD} E[f^{UMD}]\n",
    "\\]\n",
    "\n",
    "We will test these models using time-series regressions.  \n",
    "Namely, for each asset *i*, we estimate the following regression to test the AQR model:\n",
    "\n",
    "\\[\n",
    "r_t^i = \\alpha^i + \\beta_i^{MKT} f_t^{MKT} + \\beta_i^{HML} f_t^{HML} + \\beta_i^{RMW} f_t^{RMW} + \\beta_i^{UMD} f_t^{UMD} + \\varepsilon_t\n",
    "\\]\n"
   ]
  },
  {
   "cell_type": "markdown",
   "id": "c90537ce",
   "metadata": {},
   "source": [
    "### Data\n",
    "\n",
    "- Monthly excess return data on **n = 49** equity portfolios sorted by their industry.  \n",
    "  Denote these as \\( r_t^i \\), for \\( i = 1, \\dots, n \\).  \n",
    "- You do **not** need the risk-free rate data. It is provided only for completeness.  \n",
    "- The other two tabs are already in terms of **excess returns**.\n"
   ]
  },
  {
   "cell_type": "code",
   "execution_count": 70,
   "id": "f0698e9f",
   "metadata": {},
   "outputs": [
    {
     "data": {
      "text/html": [
       "<div>\n",
       "<style scoped>\n",
       "    .dataframe tbody tr th:only-of-type {\n",
       "        vertical-align: middle;\n",
       "    }\n",
       "\n",
       "    .dataframe tbody tr th {\n",
       "        vertical-align: top;\n",
       "    }\n",
       "\n",
       "    .dataframe thead th {\n",
       "        text-align: right;\n",
       "    }\n",
       "</style>\n",
       "<table border=\"1\" class=\"dataframe\">\n",
       "  <thead>\n",
       "    <tr style=\"text-align: right;\">\n",
       "      <th></th>\n",
       "      <th>Agric</th>\n",
       "      <th>Food</th>\n",
       "      <th>Soda</th>\n",
       "      <th>Beer</th>\n",
       "      <th>Smoke</th>\n",
       "      <th>Toys</th>\n",
       "      <th>Fun</th>\n",
       "      <th>Books</th>\n",
       "      <th>Hshld</th>\n",
       "      <th>Clths</th>\n",
       "      <th>...</th>\n",
       "      <th>Boxes</th>\n",
       "      <th>Trans</th>\n",
       "      <th>Whlsl</th>\n",
       "      <th>Rtail</th>\n",
       "      <th>Meals</th>\n",
       "      <th>Banks</th>\n",
       "      <th>Insur</th>\n",
       "      <th>RlEst</th>\n",
       "      <th>Fin</th>\n",
       "      <th>Other</th>\n",
       "    </tr>\n",
       "    <tr>\n",
       "      <th>Date</th>\n",
       "      <th></th>\n",
       "      <th></th>\n",
       "      <th></th>\n",
       "      <th></th>\n",
       "      <th></th>\n",
       "      <th></th>\n",
       "      <th></th>\n",
       "      <th></th>\n",
       "      <th></th>\n",
       "      <th></th>\n",
       "      <th></th>\n",
       "      <th></th>\n",
       "      <th></th>\n",
       "      <th></th>\n",
       "      <th></th>\n",
       "      <th></th>\n",
       "      <th></th>\n",
       "      <th></th>\n",
       "      <th></th>\n",
       "      <th></th>\n",
       "      <th></th>\n",
       "    </tr>\n",
       "  </thead>\n",
       "  <tbody>\n",
       "    <tr>\n",
       "      <th>1980-01-31</th>\n",
       "      <td>-0.0073</td>\n",
       "      <td>0.0285</td>\n",
       "      <td>0.0084</td>\n",
       "      <td>0.1009</td>\n",
       "      <td>-0.0143</td>\n",
       "      <td>0.0995</td>\n",
       "      <td>0.0348</td>\n",
       "      <td>0.0323</td>\n",
       "      <td>0.0048</td>\n",
       "      <td>0.0059</td>\n",
       "      <td>...</td>\n",
       "      <td>0.0158</td>\n",
       "      <td>0.0851</td>\n",
       "      <td>0.0466</td>\n",
       "      <td>-0.0125</td>\n",
       "      <td>0.0430</td>\n",
       "      <td>-0.0284</td>\n",
       "      <td>0.0254</td>\n",
       "      <td>0.0770</td>\n",
       "      <td>0.0306</td>\n",
       "      <td>0.0666</td>\n",
       "    </tr>\n",
       "    <tr>\n",
       "      <th>1980-02-29</th>\n",
       "      <td>0.0125</td>\n",
       "      <td>-0.0609</td>\n",
       "      <td>-0.0967</td>\n",
       "      <td>-0.0323</td>\n",
       "      <td>-0.0575</td>\n",
       "      <td>-0.0316</td>\n",
       "      <td>-0.0492</td>\n",
       "      <td>-0.0803</td>\n",
       "      <td>-0.0556</td>\n",
       "      <td>-0.0169</td>\n",
       "      <td>...</td>\n",
       "      <td>-0.0083</td>\n",
       "      <td>-0.0543</td>\n",
       "      <td>-0.0345</td>\n",
       "      <td>-0.0641</td>\n",
       "      <td>-0.0653</td>\n",
       "      <td>-0.0824</td>\n",
       "      <td>-0.0960</td>\n",
       "      <td>-0.0352</td>\n",
       "      <td>-0.0283</td>\n",
       "      <td>-0.0273</td>\n",
       "    </tr>\n",
       "    <tr>\n",
       "      <th>1980-03-31</th>\n",
       "      <td>-0.2220</td>\n",
       "      <td>-0.1119</td>\n",
       "      <td>-0.0158</td>\n",
       "      <td>-0.1535</td>\n",
       "      <td>-0.0188</td>\n",
       "      <td>-0.1272</td>\n",
       "      <td>-0.0827</td>\n",
       "      <td>-0.1238</td>\n",
       "      <td>-0.0567</td>\n",
       "      <td>-0.0670</td>\n",
       "      <td>...</td>\n",
       "      <td>-0.0819</td>\n",
       "      <td>-0.1512</td>\n",
       "      <td>-0.1602</td>\n",
       "      <td>-0.0905</td>\n",
       "      <td>-0.1450</td>\n",
       "      <td>-0.0559</td>\n",
       "      <td>-0.0877</td>\n",
       "      <td>-0.2449</td>\n",
       "      <td>-0.1261</td>\n",
       "      <td>-0.1737</td>\n",
       "    </tr>\n",
       "    <tr>\n",
       "      <th>1980-04-30</th>\n",
       "      <td>0.0449</td>\n",
       "      <td>0.0767</td>\n",
       "      <td>0.0232</td>\n",
       "      <td>0.0289</td>\n",
       "      <td>0.0830</td>\n",
       "      <td>-0.0529</td>\n",
       "      <td>0.0785</td>\n",
       "      <td>0.0154</td>\n",
       "      <td>0.0305</td>\n",
       "      <td>0.0115</td>\n",
       "      <td>...</td>\n",
       "      <td>0.0422</td>\n",
       "      <td>-0.0102</td>\n",
       "      <td>0.0268</td>\n",
       "      <td>0.0355</td>\n",
       "      <td>0.0539</td>\n",
       "      <td>0.0736</td>\n",
       "      <td>0.0528</td>\n",
       "      <td>0.0964</td>\n",
       "      <td>0.0458</td>\n",
       "      <td>0.0784</td>\n",
       "    </tr>\n",
       "    <tr>\n",
       "      <th>1980-05-31</th>\n",
       "      <td>0.0635</td>\n",
       "      <td>0.0797</td>\n",
       "      <td>0.0458</td>\n",
       "      <td>0.0866</td>\n",
       "      <td>0.0822</td>\n",
       "      <td>0.0510</td>\n",
       "      <td>0.0325</td>\n",
       "      <td>0.0888</td>\n",
       "      <td>0.0560</td>\n",
       "      <td>0.0098</td>\n",
       "      <td>...</td>\n",
       "      <td>0.0564</td>\n",
       "      <td>0.1065</td>\n",
       "      <td>0.1142</td>\n",
       "      <td>0.0877</td>\n",
       "      <td>0.1104</td>\n",
       "      <td>0.0570</td>\n",
       "      <td>0.0560</td>\n",
       "      <td>0.0889</td>\n",
       "      <td>0.0846</td>\n",
       "      <td>0.0663</td>\n",
       "    </tr>\n",
       "  </tbody>\n",
       "</table>\n",
       "<p>5 rows × 49 columns</p>\n",
       "</div>"
      ],
      "text/plain": [
       "             Agric   Food    Soda    Beer    Smoke   Toys    Fun     Books  \\\n",
       "Date                                                                         \n",
       "1980-01-31 -0.0073  0.0285  0.0084  0.1009 -0.0143  0.0995  0.0348  0.0323   \n",
       "1980-02-29  0.0125 -0.0609 -0.0967 -0.0323 -0.0575 -0.0316 -0.0492 -0.0803   \n",
       "1980-03-31 -0.2220 -0.1119 -0.0158 -0.1535 -0.0188 -0.1272 -0.0827 -0.1238   \n",
       "1980-04-30  0.0449  0.0767  0.0232  0.0289  0.0830 -0.0529  0.0785  0.0154   \n",
       "1980-05-31  0.0635  0.0797  0.0458  0.0866  0.0822  0.0510  0.0325  0.0888   \n",
       "\n",
       "             Hshld   Clths  ...   Boxes   Trans   Whlsl   Rtail   Meals  \\\n",
       "Date                        ...                                           \n",
       "1980-01-31  0.0048  0.0059  ...  0.0158  0.0851  0.0466 -0.0125  0.0430   \n",
       "1980-02-29 -0.0556 -0.0169  ... -0.0083 -0.0543 -0.0345 -0.0641 -0.0653   \n",
       "1980-03-31 -0.0567 -0.0670  ... -0.0819 -0.1512 -0.1602 -0.0905 -0.1450   \n",
       "1980-04-30  0.0305  0.0115  ...  0.0422 -0.0102  0.0268  0.0355  0.0539   \n",
       "1980-05-31  0.0560  0.0098  ...  0.0564  0.1065  0.1142  0.0877  0.1104   \n",
       "\n",
       "             Banks   Insur   RlEst   Fin     Other  \n",
       "Date                                                \n",
       "1980-01-31 -0.0284  0.0254  0.0770  0.0306  0.0666  \n",
       "1980-02-29 -0.0824 -0.0960 -0.0352 -0.0283 -0.0273  \n",
       "1980-03-31 -0.0559 -0.0877 -0.2449 -0.1261 -0.1737  \n",
       "1980-04-30  0.0736  0.0528  0.0964  0.0458  0.0784  \n",
       "1980-05-31  0.0570  0.0560  0.0889  0.0846  0.0663  \n",
       "\n",
       "[5 rows x 49 columns]"
      ]
     },
     "execution_count": 70,
     "metadata": {},
     "output_type": "execute_result"
    }
   ],
   "source": [
    "portfolio_rets = pd.read_excel(\"data/factor_pricing_data_monthly.xlsx\", sheet_name=\"portfolios (excess returns)\")\n",
    "portfolio_rets.set_index('Date',inplace=True)\n",
    "portfolio_rets.head()"
   ]
  },
  {
   "cell_type": "markdown",
   "id": "698d21b8",
   "metadata": {},
   "source": [
    "### 1.\n",
    "\n",
    "Test the **AQR 4-Factor Model** using the time-series test.  \n",
    "(We are not doing the cross-sectional regression tests.)\n",
    "\n",
    "For each regression, report the estimated **α** (alpha) and **R²**.\n"
   ]
  },
  {
   "cell_type": "code",
   "execution_count": 92,
   "id": "8cc51fd4",
   "metadata": {},
   "outputs": [],
   "source": [
    "AQR_FACTORS = ['MKT', 'HML', 'RMW', 'UMD']\n",
    "CAPM_FACTORS = ['MKT']\n",
    "FF3_FACTORS = ['MKT', 'SMB', 'HML']\n",
    "FF5_FACTORS = ['MKT', 'SMB', 'HML', 'RMW', 'CMA']"
   ]
  },
  {
   "cell_type": "code",
   "execution_count": null,
   "id": "bf6d2e2f",
   "metadata": {},
   "outputs": [],
   "source": [
    "def calc_alphas_and_rsquared(portfolio_rets, factor_rets, freq, base_factors):\n",
    "    X = sm.add_constant(factor_rets[base_factors])\n",
    "    alphas = []\n",
    "    r2_values = []\n",
    "    for industry in portfolio_rets.columns:\n",
    "        y = portfolio_rets[industry]\n",
    "        model = sm.OLS(y,X).fit()\n",
    "        alpha = model.params['const'] * freq\n",
    "        r2 = model.rsquared\n",
    "        alphas.append(alpha)\n",
    "        r2_values.append(r2)\n",
    "\n",
    "    results = pd.DataFrame({'alpha' : alphas, 'r-squared' : r2_values}, index=portfolio_rets.columns)\n",
    "    return results"
   ]
  },
  {
   "cell_type": "code",
   "execution_count": 83,
   "id": "83aac404",
   "metadata": {},
   "outputs": [],
   "source": [
    "def display_top_n(df, column_name, no_rows):\n",
    "    results = df.loc[df[column_name].abs().nlargest(10).index]\n",
    "    display_df(results, 2)\n"
   ]
  },
  {
   "cell_type": "code",
   "execution_count": 86,
   "id": "16c7e866",
   "metadata": {},
   "outputs": [
    {
     "data": {
      "text/html": [
       "<style type=\"text/css\">\n",
       "</style>\n",
       "<table id=\"T_68ff2\">\n",
       "  <thead>\n",
       "    <tr>\n",
       "      <th class=\"blank level0\" >&nbsp;</th>\n",
       "      <th id=\"T_68ff2_level0_col0\" class=\"col_heading level0 col0\" >alpha</th>\n",
       "      <th id=\"T_68ff2_level0_col1\" class=\"col_heading level0 col1\" >r-squared</th>\n",
       "    </tr>\n",
       "  </thead>\n",
       "  <tbody>\n",
       "    <tr>\n",
       "      <th id=\"T_68ff2_level0_row0\" class=\"row_heading level0 row0\" >Softw</th>\n",
       "      <td id=\"T_68ff2_row0_col0\" class=\"data row0 col0\" >6.84%</td>\n",
       "      <td id=\"T_68ff2_row0_col1\" class=\"data row0 col1\" >74.50%</td>\n",
       "    </tr>\n",
       "    <tr>\n",
       "      <th id=\"T_68ff2_level0_row1\" class=\"row_heading level0 row1\" >Chips</th>\n",
       "      <td id=\"T_68ff2_row1_col0\" class=\"data row1 col0\" >6.36%</td>\n",
       "      <td id=\"T_68ff2_row1_col1\" class=\"data row1 col1\" >74.98%</td>\n",
       "    </tr>\n",
       "    <tr>\n",
       "      <th id=\"T_68ff2_level0_row2\" class=\"row_heading level0 row2\" >RlEst</th>\n",
       "      <td id=\"T_68ff2_row2_col0\" class=\"data row2 col0\" >-5.11%</td>\n",
       "      <td id=\"T_68ff2_row2_col1\" class=\"data row2 col1\" >60.54%</td>\n",
       "    </tr>\n",
       "    <tr>\n",
       "      <th id=\"T_68ff2_level0_row3\" class=\"row_heading level0 row3\" >PerSv</th>\n",
       "      <td id=\"T_68ff2_row3_col0\" class=\"data row3 col0\" >-4.96%</td>\n",
       "      <td id=\"T_68ff2_row3_col1\" class=\"data row3 col1\" >58.48%</td>\n",
       "    </tr>\n",
       "    <tr>\n",
       "      <th id=\"T_68ff2_level0_row4\" class=\"row_heading level0 row4\" >Paper</th>\n",
       "      <td id=\"T_68ff2_row4_col0\" class=\"data row4 col0\" >-4.30%</td>\n",
       "      <td id=\"T_68ff2_row4_col1\" class=\"data row4 col1\" >67.30%</td>\n",
       "    </tr>\n",
       "    <tr>\n",
       "      <th id=\"T_68ff2_level0_row5\" class=\"row_heading level0 row5\" >Other</th>\n",
       "      <td id=\"T_68ff2_row5_col0\" class=\"data row5 col0\" >-4.22%</td>\n",
       "      <td id=\"T_68ff2_row5_col1\" class=\"data row5 col1\" >58.37%</td>\n",
       "    </tr>\n",
       "    <tr>\n",
       "      <th id=\"T_68ff2_level0_row6\" class=\"row_heading level0 row6\" >Hardw</th>\n",
       "      <td id=\"T_68ff2_row6_col0\" class=\"data row6 col0\" >4.20%</td>\n",
       "      <td id=\"T_68ff2_row6_col1\" class=\"data row6 col1\" >66.69%</td>\n",
       "    </tr>\n",
       "    <tr>\n",
       "      <th id=\"T_68ff2_level0_row7\" class=\"row_heading level0 row7\" >Smoke</th>\n",
       "      <td id=\"T_68ff2_row7_col0\" class=\"data row7 col0\" >4.11%</td>\n",
       "      <td id=\"T_68ff2_row7_col1\" class=\"data row7 col1\" >26.54%</td>\n",
       "    </tr>\n",
       "    <tr>\n",
       "      <th id=\"T_68ff2_level0_row8\" class=\"row_heading level0 row8\" >Hlth </th>\n",
       "      <td id=\"T_68ff2_row8_col0\" class=\"data row8 col0\" >-4.07%</td>\n",
       "      <td id=\"T_68ff2_row8_col1\" class=\"data row8 col1\" >44.09%</td>\n",
       "    </tr>\n",
       "    <tr>\n",
       "      <th id=\"T_68ff2_level0_row9\" class=\"row_heading level0 row9\" >Coal </th>\n",
       "      <td id=\"T_68ff2_row9_col0\" class=\"data row9 col0\" >-3.96%</td>\n",
       "      <td id=\"T_68ff2_row9_col1\" class=\"data row9 col1\" >21.26%</td>\n",
       "    </tr>\n",
       "  </tbody>\n",
       "</table>\n"
      ],
      "text/plain": [
       "<pandas.io.formats.style.Styler at 0x171cb29f460>"
      ]
     },
     "metadata": {},
     "output_type": "display_data"
    }
   ],
   "source": [
    "aqr_results = calc_alphas_and_rsquared(portfolio_rets, factors, 12, AQR_FACTORS)\n",
    "#display_df(aqr_results, 2) #-- Dsiplay all\n",
    "display_top_n(aqr_results, 'alpha', 10) # -- Display top n based on absolute value of alpha"
   ]
  },
  {
   "cell_type": "markdown",
   "id": "4af65961",
   "metadata": {},
   "source": [
    "### 2. Mean Absolute Error of Alphas\n",
    "\n",
    "Compute the mean absolute error (MAE) of the estimated alphas:\n",
    "\n",
    "$$\n",
    "\\mathrm{MAE} \\;=\\; \\frac{1}{n}\\sum_{i=1}^{n}\\left|\\hat{\\alpha}_i\\right|\n",
    "$$\n",
    "\n",
    "- If the pricing model worked, should these alpha estimates be large or small? Why?\n",
    "- Based on your MAE statistic, does this seem to support the pricing model or not?\n"
   ]
  },
  {
   "cell_type": "code",
   "execution_count": 89,
   "id": "3c41c6b1",
   "metadata": {},
   "outputs": [
    {
     "name": "stdout",
     "output_type": "stream",
     "text": [
      "Mean Absolute Alpha (MAE): 2.461%\n"
     ]
    }
   ],
   "source": [
    "aqr_mae = aqr_results['alpha'].abs().mean()\n",
    "print(f\"Mean Absolute Alpha (MAE): {aqr_mae:.3%}\")"
   ]
  },
  {
   "cell_type": "markdown",
   "id": "c70b9185",
   "metadata": {},
   "source": [
    "- If the pricing model worked perfectly, the estimated alphas should be **close to zero**, since the factors would fully explain all portfolio returns.  \n",
    "- In this case, the mean absolute alpha is approximately **2.46%**, which suggests that while the model explains much of the variation in returns, there are still small pricing errors remaining.  \n",
    "- Overall, this **supports the model reasonably well**, as the yearly alphas are fairly low and do not indicate systematic mispricing across portfolios.\n"
   ]
  },
  {
   "cell_type": "markdown",
   "id": "5d9dc662",
   "metadata": {},
   "source": [
    "## 2.\n",
    "\n",
    "Test the CAPM, FF 3-Factor Model and the the FF 5-Factor Model.\n",
    "\n",
    "- Report the MAE statistic for each of these models and compare it with the AQR Model MAE.\n",
    "\n",
    "- Which model fits best?"
   ]
  },
  {
   "cell_type": "code",
   "execution_count": 96,
   "id": "9657dfdd",
   "metadata": {},
   "outputs": [
    {
     "data": {
      "text/html": [
       "<style type=\"text/css\">\n",
       "</style>\n",
       "<table id=\"T_1f0cf\">\n",
       "  <thead>\n",
       "    <tr>\n",
       "      <th class=\"blank level0\" >&nbsp;</th>\n",
       "      <th id=\"T_1f0cf_level0_col0\" class=\"col_heading level0 col0\" >Model</th>\n",
       "      <th id=\"T_1f0cf_level0_col1\" class=\"col_heading level0 col1\" >Mean Absolute Alpha (MAE)</th>\n",
       "    </tr>\n",
       "  </thead>\n",
       "  <tbody>\n",
       "    <tr>\n",
       "      <th id=\"T_1f0cf_level0_row0\" class=\"row_heading level0 row0\" >0</th>\n",
       "      <td id=\"T_1f0cf_row0_col0\" class=\"data row0 col0\" >CAPM</td>\n",
       "      <td id=\"T_1f0cf_row0_col1\" class=\"data row0 col1\" >2.10%</td>\n",
       "    </tr>\n",
       "    <tr>\n",
       "      <th id=\"T_1f0cf_level0_row1\" class=\"row_heading level0 row1\" >1</th>\n",
       "      <td id=\"T_1f0cf_row1_col0\" class=\"data row1 col0\" >FF3</td>\n",
       "      <td id=\"T_1f0cf_row1_col1\" class=\"data row1 col1\" >2.44%</td>\n",
       "    </tr>\n",
       "    <tr>\n",
       "      <th id=\"T_1f0cf_level0_row2\" class=\"row_heading level0 row2\" >2</th>\n",
       "      <td id=\"T_1f0cf_row2_col0\" class=\"data row2 col0\" >FF5</td>\n",
       "      <td id=\"T_1f0cf_row2_col1\" class=\"data row2 col1\" >3.14%</td>\n",
       "    </tr>\n",
       "    <tr>\n",
       "      <th id=\"T_1f0cf_level0_row3\" class=\"row_heading level0 row3\" >3</th>\n",
       "      <td id=\"T_1f0cf_row3_col0\" class=\"data row3 col0\" >AQR</td>\n",
       "      <td id=\"T_1f0cf_row3_col1\" class=\"data row3 col1\" >2.46%</td>\n",
       "    </tr>\n",
       "  </tbody>\n",
       "</table>\n"
      ],
      "text/plain": [
       "<pandas.io.formats.style.Styler at 0x171cb004310>"
      ]
     },
     "metadata": {},
     "output_type": "display_data"
    }
   ],
   "source": [
    "capm_results = calc_alphas_and_rsquared(portfolio_rets, factors, 12, CAPM_FACTORS)\n",
    "ff3_results  = calc_alphas_and_rsquared(portfolio_rets, factors, 12, FF3_FACTORS)\n",
    "ff5_results  = calc_alphas_and_rsquared(portfolio_rets, factors, 12, FF5_FACTORS)\n",
    "\n",
    "capm_mae = capm_results['alpha'].abs().mean()\n",
    "ff3_mae  = ff3_results['alpha'].abs().mean()\n",
    "ff5_mae  = ff5_results['alpha'].abs().mean()\n",
    "\n",
    "# Combine results in one DataFrame\n",
    "all_mae = pd.DataFrame({'Model': ['CAPM', 'FF3', 'FF5', 'AQR'], 'Mean Absolute Alpha (MAE)': [capm_mae, ff3_mae, ff5_mae, aqr_mae]})\n",
    "\n",
    "display(all_mae.style.format({'Mean Absolute Alpha (MAE)': '{:.2%}'}))"
   ]
  },
  {
   "cell_type": "markdown",
   "id": "b62b9ae5",
   "metadata": {},
   "source": [
    "The CAPM model has the lowest MAE (2.10%), meaning it fits the data best in this case.  \n",
    "The FF3 and AQR models are close behind, while the FF5 model performs the worst.  \n",
    "Overall, all models fit reasonably well."
   ]
  },
  {
   "cell_type": "code",
   "execution_count": null,
   "id": "5e605212",
   "metadata": {},
   "outputs": [],
   "source": []
  }
 ],
 "metadata": {
  "kernelspec": {
   "display_name": "finmpy",
   "language": "python",
   "name": "python3"
  },
  "language_info": {
   "codemirror_mode": {
    "name": "ipython",
    "version": 3
   },
   "file_extension": ".py",
   "mimetype": "text/x-python",
   "name": "python",
   "nbconvert_exporter": "python",
   "pygments_lexer": "ipython3",
   "version": "3.10.18"
  }
 },
 "nbformat": 4,
 "nbformat_minor": 5
}
