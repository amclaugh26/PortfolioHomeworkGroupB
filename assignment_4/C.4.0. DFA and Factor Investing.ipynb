{
 "cells": [
  {
   "cell_type": "markdown",
   "id": "791f233d",
   "metadata": {},
   "source": [
    "# DFA and Factor Investing\n",
    "\n",
    "## HBS Case\n",
    "### *Dimensional Fund Advisors, 2002 [HBS 9-203-026].\n",
    "\n",
    "*Pages 1-5 of the case are required. Pages 6-11 get into interesting issues around trading (especially adverse selection) and tax considerations. These sections are useful for building market knowledge, but we will not cover them.**"
   ]
  },
  {
   "cell_type": "markdown",
   "id": "8442c275",
   "metadata": {},
   "source": [
    "# 2. The Factors"
   ]
  },
  {
   "cell_type": "markdown",
   "id": "9e393f9f",
   "metadata": {},
   "source": [
    "DFA believes certain stocks have higher expected excess returns. In addition to the overall market equity premium, DFA believes that there is a premium attached to a **size** and **value** factor. Note that these three factors are already listed as **excess** returns.\n",
    "\n",
    "### Data\n",
    "Use the data found in `data/dfa_analysis_data.xlsx`.\n",
    "\n",
    "- Monthly **excess** return data for the overall equity market, $\\tilde{r}^{\\text{mkt}}$. \n",
    "\n",
    "- The sheet also contains data on two additional factors, `SMB` and `HML`, as well as the risk-free rate. \n",
    "\n",
    "- You do not need any of these columns for the homework. Just use the `MKT` column, which is **excess** market returns. (So no need to subtract the risk-free rate.)\n",
    "\n",
    "#### Source:\n",
    "\n",
    "Ken French library, accessible through the pandas-datareader API."
   ]
  },
  {
   "cell_type": "code",
   "execution_count": 35,
   "id": "530721d8",
   "metadata": {},
   "outputs": [
    {
     "data": {
      "text/html": [
       "<div>\n",
       "<style scoped>\n",
       "    .dataframe tbody tr th:only-of-type {\n",
       "        vertical-align: middle;\n",
       "    }\n",
       "\n",
       "    .dataframe tbody tr th {\n",
       "        vertical-align: top;\n",
       "    }\n",
       "\n",
       "    .dataframe thead th {\n",
       "        text-align: right;\n",
       "    }\n",
       "</style>\n",
       "<table border=\"1\" class=\"dataframe\">\n",
       "  <thead>\n",
       "    <tr style=\"text-align: right;\">\n",
       "      <th></th>\n",
       "      <th>Mkt-RF</th>\n",
       "      <th>SMB</th>\n",
       "      <th>HML</th>\n",
       "    </tr>\n",
       "    <tr>\n",
       "      <th>Date</th>\n",
       "      <th></th>\n",
       "      <th></th>\n",
       "      <th></th>\n",
       "    </tr>\n",
       "  </thead>\n",
       "  <tbody>\n",
       "    <tr>\n",
       "      <th>1926-07-31</th>\n",
       "      <td>0.0289</td>\n",
       "      <td>-0.0255</td>\n",
       "      <td>-0.0239</td>\n",
       "    </tr>\n",
       "    <tr>\n",
       "      <th>1926-08-31</th>\n",
       "      <td>0.0264</td>\n",
       "      <td>-0.0114</td>\n",
       "      <td>0.0381</td>\n",
       "    </tr>\n",
       "    <tr>\n",
       "      <th>1926-09-30</th>\n",
       "      <td>0.0038</td>\n",
       "      <td>-0.0136</td>\n",
       "      <td>0.0005</td>\n",
       "    </tr>\n",
       "    <tr>\n",
       "      <th>1926-10-31</th>\n",
       "      <td>-0.0327</td>\n",
       "      <td>-0.0014</td>\n",
       "      <td>0.0082</td>\n",
       "    </tr>\n",
       "    <tr>\n",
       "      <th>1926-11-30</th>\n",
       "      <td>0.0254</td>\n",
       "      <td>-0.0011</td>\n",
       "      <td>-0.0061</td>\n",
       "    </tr>\n",
       "  </tbody>\n",
       "</table>\n",
       "</div>"
      ],
      "text/plain": [
       "            Mkt-RF     SMB     HML\n",
       "Date                              \n",
       "1926-07-31  0.0289 -0.0255 -0.0239\n",
       "1926-08-31  0.0264 -0.0114  0.0381\n",
       "1926-09-30  0.0038 -0.0136  0.0005\n",
       "1926-10-31 -0.0327 -0.0014  0.0082\n",
       "1926-11-30  0.0254 -0.0011 -0.0061"
      ]
     },
     "execution_count": 35,
     "metadata": {},
     "output_type": "execute_result"
    }
   ],
   "source": [
    "import pandas as pd\n",
    "import numpy as np\n",
    "import matplotlib.pyplot as plt\n",
    "import seaborn as sns\n",
    "import statsmodels.api as sm\n",
    "from sklearn.linear_model import LinearRegression\n",
    "from scipy.stats import norm\n",
    "\n",
    "#read data\n",
    "factors = pd.read_excel(\"data/dfa_analysis_data.xlsx\", sheet_name=\"factors\").drop('RF', axis=1)\n",
    "factors.set_index('Date',inplace=True)\n",
    "tot_ret = pd.read_excel(\"data/dfa_analysis_data.xlsx\", sheet_name=\"portfolios (total returns)\")\n",
    "tot_ret.set_index('Date',inplace=True)\n",
    "factors.head(5)\n"
   ]
  },
  {
   "cell_type": "code",
   "execution_count": 36,
   "id": "ce5642cc",
   "metadata": {},
   "outputs": [
    {
     "data": {
      "text/html": [
       "<div>\n",
       "<style scoped>\n",
       "    .dataframe tbody tr th:only-of-type {\n",
       "        vertical-align: middle;\n",
       "    }\n",
       "\n",
       "    .dataframe tbody tr th {\n",
       "        vertical-align: top;\n",
       "    }\n",
       "\n",
       "    .dataframe thead th {\n",
       "        text-align: right;\n",
       "    }\n",
       "</style>\n",
       "<table border=\"1\" class=\"dataframe\">\n",
       "  <thead>\n",
       "    <tr style=\"text-align: right;\">\n",
       "      <th></th>\n",
       "      <th>SMALL LoBM</th>\n",
       "      <th>ME1 BM2</th>\n",
       "      <th>ME1 BM3</th>\n",
       "      <th>ME1 BM4</th>\n",
       "      <th>SMALL HiBM</th>\n",
       "      <th>ME2 BM1</th>\n",
       "      <th>ME2 BM2</th>\n",
       "      <th>ME2 BM3</th>\n",
       "      <th>ME2 BM4</th>\n",
       "      <th>ME2 BM5</th>\n",
       "      <th>...</th>\n",
       "      <th>ME4 BM1</th>\n",
       "      <th>ME4 BM2</th>\n",
       "      <th>ME4 BM3</th>\n",
       "      <th>ME4 BM4</th>\n",
       "      <th>ME4 BM5</th>\n",
       "      <th>BIG LoBM</th>\n",
       "      <th>ME5 BM2</th>\n",
       "      <th>ME5 BM3</th>\n",
       "      <th>ME5 BM4</th>\n",
       "      <th>BIG HiBM</th>\n",
       "    </tr>\n",
       "    <tr>\n",
       "      <th>Date</th>\n",
       "      <th></th>\n",
       "      <th></th>\n",
       "      <th></th>\n",
       "      <th></th>\n",
       "      <th></th>\n",
       "      <th></th>\n",
       "      <th></th>\n",
       "      <th></th>\n",
       "      <th></th>\n",
       "      <th></th>\n",
       "      <th></th>\n",
       "      <th></th>\n",
       "      <th></th>\n",
       "      <th></th>\n",
       "      <th></th>\n",
       "      <th></th>\n",
       "      <th></th>\n",
       "      <th></th>\n",
       "      <th></th>\n",
       "      <th></th>\n",
       "      <th></th>\n",
       "    </tr>\n",
       "  </thead>\n",
       "  <tbody>\n",
       "    <tr>\n",
       "      <th>1926-07-31</th>\n",
       "      <td>0.058276</td>\n",
       "      <td>-0.017006</td>\n",
       "      <td>0.005118</td>\n",
       "      <td>-0.021477</td>\n",
       "      <td>0.019583</td>\n",
       "      <td>0.012118</td>\n",
       "      <td>0.024107</td>\n",
       "      <td>0.006056</td>\n",
       "      <td>-0.026082</td>\n",
       "      <td>-0.004527</td>\n",
       "      <td>...</td>\n",
       "      <td>0.015376</td>\n",
       "      <td>0.015460</td>\n",
       "      <td>0.013389</td>\n",
       "      <td>0.002765</td>\n",
       "      <td>0.024678</td>\n",
       "      <td>0.033248</td>\n",
       "      <td>0.060909</td>\n",
       "      <td>0.020285</td>\n",
       "      <td>0.031263</td>\n",
       "      <td>0.005623</td>\n",
       "    </tr>\n",
       "    <tr>\n",
       "      <th>1926-08-31</th>\n",
       "      <td>-0.020206</td>\n",
       "      <td>-0.080282</td>\n",
       "      <td>0.013968</td>\n",
       "      <td>0.021483</td>\n",
       "      <td>0.085104</td>\n",
       "      <td>0.023620</td>\n",
       "      <td>-0.007525</td>\n",
       "      <td>0.038984</td>\n",
       "      <td>0.002299</td>\n",
       "      <td>0.062937</td>\n",
       "      <td>...</td>\n",
       "      <td>0.013858</td>\n",
       "      <td>0.038587</td>\n",
       "      <td>0.019738</td>\n",
       "      <td>0.021336</td>\n",
       "      <td>0.053422</td>\n",
       "      <td>0.010169</td>\n",
       "      <td>0.041975</td>\n",
       "      <td>0.019769</td>\n",
       "      <td>0.054924</td>\n",
       "      <td>0.077576</td>\n",
       "    </tr>\n",
       "    <tr>\n",
       "      <th>1926-09-30</th>\n",
       "      <td>-0.048291</td>\n",
       "      <td>-0.026806</td>\n",
       "      <td>-0.043417</td>\n",
       "      <td>-0.032683</td>\n",
       "      <td>0.008586</td>\n",
       "      <td>-0.026849</td>\n",
       "      <td>-0.005252</td>\n",
       "      <td>0.010789</td>\n",
       "      <td>-0.032877</td>\n",
       "      <td>-0.009419</td>\n",
       "      <td>...</td>\n",
       "      <td>0.016897</td>\n",
       "      <td>-0.005246</td>\n",
       "      <td>-0.017724</td>\n",
       "      <td>0.014806</td>\n",
       "      <td>0.008730</td>\n",
       "      <td>-0.012951</td>\n",
       "      <td>0.036610</td>\n",
       "      <td>0.001384</td>\n",
       "      <td>-0.007497</td>\n",
       "      <td>-0.024284</td>\n",
       "    </tr>\n",
       "    <tr>\n",
       "      <th>1926-10-31</th>\n",
       "      <td>-0.093633</td>\n",
       "      <td>-0.035519</td>\n",
       "      <td>-0.035024</td>\n",
       "      <td>0.034413</td>\n",
       "      <td>-0.025452</td>\n",
       "      <td>-0.028014</td>\n",
       "      <td>-0.044191</td>\n",
       "      <td>-0.050767</td>\n",
       "      <td>-0.080271</td>\n",
       "      <td>-0.013213</td>\n",
       "      <td>...</td>\n",
       "      <td>-0.039136</td>\n",
       "      <td>-0.026528</td>\n",
       "      <td>-0.021058</td>\n",
       "      <td>-0.032532</td>\n",
       "      <td>-0.053525</td>\n",
       "      <td>-0.027382</td>\n",
       "      <td>-0.030061</td>\n",
       "      <td>-0.022467</td>\n",
       "      <td>-0.046725</td>\n",
       "      <td>-0.058129</td>\n",
       "    </tr>\n",
       "    <tr>\n",
       "      <th>1926-11-30</th>\n",
       "      <td>0.055888</td>\n",
       "      <td>0.041877</td>\n",
       "      <td>0.024384</td>\n",
       "      <td>-0.044495</td>\n",
       "      <td>0.005110</td>\n",
       "      <td>0.031023</td>\n",
       "      <td>-0.017317</td>\n",
       "      <td>0.030425</td>\n",
       "      <td>0.049538</td>\n",
       "      <td>0.027292</td>\n",
       "      <td>...</td>\n",
       "      <td>0.034492</td>\n",
       "      <td>0.023823</td>\n",
       "      <td>0.037315</td>\n",
       "      <td>0.051102</td>\n",
       "      <td>0.018213</td>\n",
       "      <td>0.044331</td>\n",
       "      <td>0.025355</td>\n",
       "      <td>0.015280</td>\n",
       "      <td>0.036596</td>\n",
       "      <td>0.025636</td>\n",
       "    </tr>\n",
       "  </tbody>\n",
       "</table>\n",
       "<p>5 rows × 25 columns</p>\n",
       "</div>"
      ],
      "text/plain": [
       "            SMALL LoBM   ME1 BM2   ME1 BM3   ME1 BM4  SMALL HiBM   ME2 BM1  \\\n",
       "Date                                                                         \n",
       "1926-07-31    0.058276 -0.017006  0.005118 -0.021477    0.019583  0.012118   \n",
       "1926-08-31   -0.020206 -0.080282  0.013968  0.021483    0.085104  0.023620   \n",
       "1926-09-30   -0.048291 -0.026806 -0.043417 -0.032683    0.008586 -0.026849   \n",
       "1926-10-31   -0.093633 -0.035519 -0.035024  0.034413   -0.025452 -0.028014   \n",
       "1926-11-30    0.055888  0.041877  0.024384 -0.044495    0.005110  0.031023   \n",
       "\n",
       "             ME2 BM2   ME2 BM3   ME2 BM4   ME2 BM5  ...   ME4 BM1   ME4 BM2  \\\n",
       "Date                                                ...                       \n",
       "1926-07-31  0.024107  0.006056 -0.026082 -0.004527  ...  0.015376  0.015460   \n",
       "1926-08-31 -0.007525  0.038984  0.002299  0.062937  ...  0.013858  0.038587   \n",
       "1926-09-30 -0.005252  0.010789 -0.032877 -0.009419  ...  0.016897 -0.005246   \n",
       "1926-10-31 -0.044191 -0.050767 -0.080271 -0.013213  ... -0.039136 -0.026528   \n",
       "1926-11-30 -0.017317  0.030425  0.049538  0.027292  ...  0.034492  0.023823   \n",
       "\n",
       "             ME4 BM3   ME4 BM4   ME4 BM5  BIG LoBM   ME5 BM2   ME5 BM3  \\\n",
       "Date                                                                     \n",
       "1926-07-31  0.013389  0.002765  0.024678  0.033248  0.060909  0.020285   \n",
       "1926-08-31  0.019738  0.021336  0.053422  0.010169  0.041975  0.019769   \n",
       "1926-09-30 -0.017724  0.014806  0.008730 -0.012951  0.036610  0.001384   \n",
       "1926-10-31 -0.021058 -0.032532 -0.053525 -0.027382 -0.030061 -0.022467   \n",
       "1926-11-30  0.037315  0.051102  0.018213  0.044331  0.025355  0.015280   \n",
       "\n",
       "             ME5 BM4  BIG HiBM  \n",
       "Date                            \n",
       "1926-07-31  0.031263  0.005623  \n",
       "1926-08-31  0.054924  0.077576  \n",
       "1926-09-30 -0.007497 -0.024284  \n",
       "1926-10-31 -0.046725 -0.058129  \n",
       "1926-11-30  0.036596  0.025636  \n",
       "\n",
       "[5 rows x 25 columns]"
      ]
     },
     "execution_count": 36,
     "metadata": {},
     "output_type": "execute_result"
    }
   ],
   "source": [
    "tot_ret.head(5)"
   ]
  },
  {
   "cell_type": "markdown",
   "id": "92ecce9a",
   "metadata": {},
   "source": [
    "### 1. The Factors\n",
    "\n",
    "Calculate their univariate performance statistics: \n",
    "\n",
    "* mean\n",
    "* volatility\n",
    "* Sharpe\n",
    "* VaR(.05)\n",
    "\n",
    "Report these for the following three subsamples:\n",
    "\n",
    "* Beginning - 1980\n",
    "* 1981 - 2001\n",
    "* 2002 - End\n",
    "\n"
   ]
  },
  {
   "cell_type": "code",
   "execution_count": 37,
   "id": "c49248d8",
   "metadata": {},
   "outputs": [],
   "source": [
    "#complete set-up\n",
    "def performance_metrics(returns,annualization=1): #daily annualization = 252, monthly annualization = 12\n",
    "    metrics = pd.DataFrame(index=returns.columns)\n",
    "    metrics['Mean'] = returns.mean() * annualization\n",
    "    metrics['Vol'] = returns.std() * np.sqrt(annualization)\n",
    "    metrics['Sharpe'] = (returns.mean() / returns.std()) * np.sqrt(annualization)\n",
    "    #skewness \n",
    "    metrics['Skewness'] = returns.skew()\n",
    "\n",
    "    #kurtosis\n",
    "    metrics['Kurtosis'] = returns.kurtosis() #excess kurtosis -3\n",
    "\n",
    "    #VaR(.05)\n",
    "    metrics['VaR(.05)'] = returns.quantile(0.05)\n",
    "\n",
    "    #cVaR(.05)\n",
    "    metrics['CVaR(.05)'] = returns[returns <= metrics['VaR(.05)']].mean()\n",
    "\n",
    "    metrics['Min'] = returns.min()\n",
    "    metrics['Max'] = returns.max()\n",
    "\n",
    "    return metrics\n",
    "#split factor data\n",
    "factors_1980 = factors.loc[:\"1980-12-31\"]\n",
    "factors_1981_2001 = factors.loc[\"1981-01-01\":\"2001-12-31\"]\n",
    "factors_2002_2025 = factors.loc[\"2002-01-01\":]"
   ]
  },
  {
   "cell_type": "code",
   "execution_count": 38,
   "id": "64b63203",
   "metadata": {},
   "outputs": [
    {
     "data": {
      "text/html": [
       "<style type=\"text/css\">\n",
       "</style>\n",
       "<table id=\"T_a6747\">\n",
       "  <thead>\n",
       "    <tr>\n",
       "      <th class=\"blank\" >&nbsp;</th>\n",
       "      <th class=\"blank level0\" >&nbsp;</th>\n",
       "      <th id=\"T_a6747_level0_col0\" class=\"col_heading level0 col0\" >Mean</th>\n",
       "      <th id=\"T_a6747_level0_col1\" class=\"col_heading level0 col1\" >Vol</th>\n",
       "      <th id=\"T_a6747_level0_col2\" class=\"col_heading level0 col2\" >Sharpe</th>\n",
       "      <th id=\"T_a6747_level0_col3\" class=\"col_heading level0 col3\" >VaR(.05)</th>\n",
       "    </tr>\n",
       "  </thead>\n",
       "  <tbody>\n",
       "    <tr>\n",
       "      <th id=\"T_a6747_level0_row0\" class=\"row_heading level0 row0\" rowspan=\"3\">1926-1980</th>\n",
       "      <th id=\"T_a6747_level1_row0\" class=\"row_heading level1 row0\" >Mkt-RF</th>\n",
       "      <td id=\"T_a6747_row0_col0\" class=\"data row0 col0\" >8.10%</td>\n",
       "      <td id=\"T_a6747_row0_col1\" class=\"data row0 col1\" >20.50%</td>\n",
       "      <td id=\"T_a6747_row0_col2\" class=\"data row0 col2\" >39.49%</td>\n",
       "      <td id=\"T_a6747_row0_col3\" class=\"data row0 col3\" >-8.41%</td>\n",
       "    </tr>\n",
       "    <tr>\n",
       "      <th id=\"T_a6747_level1_row1\" class=\"row_heading level1 row1\" >SMB</th>\n",
       "      <td id=\"T_a6747_row1_col0\" class=\"data row1 col0\" >3.39%</td>\n",
       "      <td id=\"T_a6747_row1_col1\" class=\"data row1 col1\" >11.43%</td>\n",
       "      <td id=\"T_a6747_row1_col2\" class=\"data row1 col2\" >29.68%</td>\n",
       "      <td id=\"T_a6747_row1_col3\" class=\"data row1 col3\" >-4.19%</td>\n",
       "    </tr>\n",
       "    <tr>\n",
       "      <th id=\"T_a6747_level1_row2\" class=\"row_heading level1 row2\" >HML</th>\n",
       "      <td id=\"T_a6747_row2_col0\" class=\"data row2 col0\" >5.03%</td>\n",
       "      <td id=\"T_a6747_row2_col1\" class=\"data row2 col1\" >13.42%</td>\n",
       "      <td id=\"T_a6747_row2_col2\" class=\"data row2 col2\" >37.49%</td>\n",
       "      <td id=\"T_a6747_row2_col3\" class=\"data row2 col3\" >-4.42%</td>\n",
       "    </tr>\n",
       "    <tr>\n",
       "      <th id=\"T_a6747_level0_row3\" class=\"row_heading level0 row3\" rowspan=\"3\">1981-2001</th>\n",
       "      <th id=\"T_a6747_level1_row3\" class=\"row_heading level1 row3\" >Mkt-RF</th>\n",
       "      <td id=\"T_a6747_row3_col0\" class=\"data row3 col0\" >7.79%</td>\n",
       "      <td id=\"T_a6747_row3_col1\" class=\"data row3 col1\" >15.72%</td>\n",
       "      <td id=\"T_a6747_row3_col2\" class=\"data row3 col2\" >49.53%</td>\n",
       "      <td id=\"T_a6747_row3_col3\" class=\"data row3 col3\" >-6.41%</td>\n",
       "    </tr>\n",
       "    <tr>\n",
       "      <th id=\"T_a6747_level1_row4\" class=\"row_heading level1 row4\" >SMB</th>\n",
       "      <td id=\"T_a6747_row4_col0\" class=\"data row4 col0\" >-0.20%</td>\n",
       "      <td id=\"T_a6747_row4_col1\" class=\"data row4 col1\" >11.73%</td>\n",
       "      <td id=\"T_a6747_row4_col2\" class=\"data row4 col2\" >-1.72%</td>\n",
       "      <td id=\"T_a6747_row4_col3\" class=\"data row4 col3\" >-4.59%</td>\n",
       "    </tr>\n",
       "    <tr>\n",
       "      <th id=\"T_a6747_level1_row5\" class=\"row_heading level1 row5\" >HML</th>\n",
       "      <td id=\"T_a6747_row5_col0\" class=\"data row5 col0\" >6.46%</td>\n",
       "      <td id=\"T_a6747_row5_col1\" class=\"data row5 col1\" >10.99%</td>\n",
       "      <td id=\"T_a6747_row5_col2\" class=\"data row5 col2\" >58.76%</td>\n",
       "      <td id=\"T_a6747_row5_col3\" class=\"data row5 col3\" >-4.16%</td>\n",
       "    </tr>\n",
       "    <tr>\n",
       "      <th id=\"T_a6747_level0_row6\" class=\"row_heading level0 row6\" rowspan=\"3\">2002-2025</th>\n",
       "      <th id=\"T_a6747_level1_row6\" class=\"row_heading level1 row6\" >Mkt-RF</th>\n",
       "      <td id=\"T_a6747_row6_col0\" class=\"data row6 col0\" >9.13%</td>\n",
       "      <td id=\"T_a6747_row6_col1\" class=\"data row6 col1\" >15.35%</td>\n",
       "      <td id=\"T_a6747_row6_col2\" class=\"data row6 col2\" >59.47%</td>\n",
       "      <td id=\"T_a6747_row6_col3\" class=\"data row6 col3\" >-7.73%</td>\n",
       "    </tr>\n",
       "    <tr>\n",
       "      <th id=\"T_a6747_level1_row7\" class=\"row_heading level1 row7\" >SMB</th>\n",
       "      <td id=\"T_a6747_row7_col0\" class=\"data row7 col0\" >0.79%</td>\n",
       "      <td id=\"T_a6747_row7_col1\" class=\"data row7 col1\" >8.84%</td>\n",
       "      <td id=\"T_a6747_row7_col2\" class=\"data row7 col2\" >8.97%</td>\n",
       "      <td id=\"T_a6747_row7_col3\" class=\"data row7 col3\" >-3.92%</td>\n",
       "    </tr>\n",
       "    <tr>\n",
       "      <th id=\"T_a6747_level1_row8\" class=\"row_heading level1 row8\" >HML</th>\n",
       "      <td id=\"T_a6747_row8_col0\" class=\"data row8 col0\" >0.12%</td>\n",
       "      <td id=\"T_a6747_row8_col1\" class=\"data row8 col1\" >10.64%</td>\n",
       "      <td id=\"T_a6747_row8_col2\" class=\"data row8 col2\" >1.13%</td>\n",
       "      <td id=\"T_a6747_row8_col3\" class=\"data row8 col3\" >-4.15%</td>\n",
       "    </tr>\n",
       "  </tbody>\n",
       "</table>\n"
      ],
      "text/plain": [
       "<pandas.io.formats.style.Styler at 0x277df2207d0>"
      ]
     },
     "execution_count": 38,
     "metadata": {},
     "output_type": "execute_result"
    }
   ],
   "source": [
    "\n",
    "metrics_1980 = performance_metrics(factors_1980,12)\n",
    "metrics_1981_2001 = performance_metrics(factors_1981_2001,12)\n",
    "metrics_2002_2025 = performance_metrics(factors_2002_2025,12)\n",
    "\n",
    "#table of the 3 dataframes by years\n",
    "period_metrics = {\n",
    "    '1926-1980': metrics_1980,\n",
    "    '1981-2001': metrics_1981_2001,\n",
    "    '2002-2025': metrics_2002_2025\n",
    "}\n",
    "\n",
    "metrics_combined = pd.concat(period_metrics, axis=0, keys=period_metrics.keys())\n",
    "metrics_combined.drop(['Skewness','Kurtosis','CVaR(.05)','Min', 'Max'], axis=1).style.format(\"{:,.2%}\")\n"
   ]
  },
  {
   "cell_type": "markdown",
   "id": "24e0663b",
   "metadata": {},
   "source": [
    "### 2. \n",
    "\n",
    "Based on the factor statistics above, answer the following.\n",
    "\n",
    "- Does each factor have a premium (positive expected excess return) in each subsample?\n",
    "\n",
    "- Does the premium to the size factor get smaller after 1980?\n",
    "\n",
    "- Does the premium to the value factor get smaller during the 1990's?\n",
    "\n",
    "- How have the factors performed since the time of the case, (2002-present)?"
   ]
  },
  {
   "cell_type": "markdown",
   "id": "ffbb0ae3",
   "metadata": {},
   "source": [
    "- No, in the period of 1981-2001 the long small companies short large companies factor had a negative excess return.\n",
    "- Yes, before 1981 small companies tending to outperform large companies by 3.39%. Whereas, beteween 1981 and 2001 the premium turned negative and between 2002-2025 the factor was only .79%.\n",
    "- No, the value factor premium grew in the 90s. Over the 1981-2001 sample, the value factor grew to 6.46% annual outperformance over growth compared to 5.03% from 1926-1980.\n",
    "-Today, the factor performance of small and value has shrunk considerable closer to zero. Specifically, .79% for small and .12% for value in recent years. This makes sense given the performance of growth indicies and concentration of gains among a few mega-cap firms in recent years."
   ]
  },
  {
   "cell_type": "markdown",
   "id": "72ad03ba",
   "metadata": {},
   "source": [
    "### 3.\n",
    "\n",
    "The factors are constructed in such a way as to reduce correlation between them.\n",
    "\n",
    "* Report the correlation matrix across the three factors. \n",
    "\n",
    "* Does the construction method succeed in keeping correlations small? \n",
    "\n",
    "* Does it achieve this in each subsample?"
   ]
  },
  {
   "cell_type": "code",
   "execution_count": 39,
   "id": "652752d0",
   "metadata": {},
   "outputs": [],
   "source": [
    "#setup\n",
    "def plot_correlation_matrix(rets):\n",
    "    correlation_matrix = rets.corr()\n",
    "    mask = np.triu(np.ones_like(correlation_matrix,dtype=bool))\n",
    "    plt.figure(figsize=(8, 4)) # Set the figure size for better readability\n",
    "    sns.heatmap(correlation_matrix,mask=mask, annot=True, fmt='.2f', cmap='RdBu_r', cbar=False)\n",
    "    plt.title('Correlation Matrix')"
   ]
  },
  {
   "cell_type": "code",
   "execution_count": 40,
   "id": "4c8c3f9d",
   "metadata": {},
   "outputs": [
    {
     "data": {
      "image/png": "[encoded data removed]",
      "text/plain": [
       "<Figure size 800x400 with 1 Axes>"
      ]
     },
     "metadata": {},
     "output_type": "display_data"
    }
   ],
   "source": [
    "#TODO\n",
    "plot_correlation_matrix(factors)"
   ]
  },
  {
   "cell_type": "markdown",
   "id": "f0acf89f",
   "metadata": {},
   "source": [
    "- The correlations between size and value are relatively small both being under .5. Their correlation with the market is also small, both being under .5.\n"
   ]
  },
  {
   "cell_type": "code",
   "execution_count": null,
   "id": "ec98a21c",
   "metadata": {},
   "outputs": [
    {
     "data": {
      "image/png": "[encoded data removed]",
      "text/plain": [
       "<Figure size 800x400 with 1 Axes>"
      ]
     },
     "metadata": {},
     "output_type": "display_data"
    },
    {
     "data": {
      "image/png": "[encoded data removed]",
      "text/plain": [
       "<Figure size 800x400 with 1 Axes>"
      ]
     },
     "metadata": {},
     "output_type": "display_data"
    },
    {
     "data": {
      "image/png": "[encoded data removed]",
      "text/plain": [
       "<Figure size 800x400 with 1 Axes>"
      ]
     },
     "metadata": {},
     "output_type": "display_data"
    }
   ],
   "source": [
    "#feel free to make this prettier\n",
    "#plot 3 correlation matrices side by side\n",
    "plot_correlation_matrix(factors_1980)\n",
    "plot_correlation_matrix(factors_1981_2001)\n",
    "plot_correlation_matrix(factors_2002_2025)"
   ]
  },
  {
   "cell_type": "markdown",
   "id": "5ae5be4e",
   "metadata": {},
   "source": [
    "- Within the subsamples the factors had differing levels of success at providing uncorrelated returns. Specifically, in the 1981-2001 subsample, the value factor had a relatively strong negative correlation with the market and size factor. Secondly, the other notable increase in correlation comparted to the full sample was in 1926-1980 where the value factor was almost twice as correlated with market returns than it was in the full sample. Overall, it is interesting that the correlation among the factors can have large swings within different windows of time."
   ]
  },
  {
   "cell_type": "markdown",
   "id": "609f8537",
   "metadata": {},
   "source": [
    "### 4. \n",
    "\n",
    "* Plot the cumulative returns of the three factors. \n",
    "\n",
    "* Create plots for the 1981-2001 subsample as well as the 2002-Present subsample."
   ]
  },
  {
   "cell_type": "code",
   "execution_count": null,
   "id": "9bc70db6",
   "metadata": {},
   "outputs": [],
   "source": [
    "#TODO\n"
   ]
  },
  {
   "cell_type": "markdown",
   "id": "ffc5be99",
   "metadata": {},
   "source": [
    "### 5.\n",
    "\n",
    "* Does it appear that all three factors were valuable in 1981-2001? \n",
    "* And post-2001? \n",
    "\n",
    "Would you advise DFA to continue emphasizing all three factors?"
   ]
  },
  {
   "cell_type": "markdown",
   "id": "1e4f3154",
   "metadata": {},
   "source": [
    "-TODO"
   ]
  },
  {
   "cell_type": "markdown",
   "id": "3709d188",
   "metadata": {},
   "source": [
    "# 3. CAPM"
   ]
  },
  {
   "cell_type": "markdown",
   "id": "f136661e",
   "metadata": {},
   "source": [
    "DFA believes that premia in stocks and stock portfolios is related to the three factors. \n",
    "\n",
    "Let's test `25` equity portfolios that span a wide range of size and value measures.\n",
    "\n",
    "#### Footnote\n",
    "For more on the portfolio construction, see the description at Ken French's data library. \n",
    "https://mba.tuck.dartmouth.edu/pages/faculty/ken.french/Data_Library/tw_5_ports.html\n",
    "\n",
    "#### Portfolios\n",
    "Monthly **total** return data on `25` equity portfolios sorted by their size-value characteristics. Denote these as $\\vec{r}^{i}$, for $n=1, \\ldots, 25$.\n",
    "- Note that while the factors were given as excess returns, the portfolios are total returns.\n",
    "- For this entire problem, focus on the 1981-Present subsample.\n",
    "\n",
    "### 1. Summary Statistics. \n",
    "\n",
    "For each portfolio, \n",
    "- Use the Risk-Free rate column in the factors tab to convert these total returns to excess returns.\n",
    "- Calculate the (annualized) univariate statistics from `1.1`."
   ]
  },
  {
   "cell_type": "code",
   "execution_count": 42,
   "id": "22e631e5",
   "metadata": {},
   "outputs": [],
   "source": [
    "#TODO"
   ]
  },
  {
   "cell_type": "markdown",
   "id": "5f848ae8",
   "metadata": {},
   "source": [
    "### 2. CAPM\n",
    "\n",
    "The Capital Asset Pricing Model (CAPM) asserts that an asset (or portfolio's) expected excess return is completely a function of its beta to the equity market index (`SPY`, or in this case, `MKT`.) \n",
    "\n",
    "Specifically, it asserts that, for any excess return, $\\tilde{r}^{i}$, its mean is proportional to the mean excess return of the market, $\\tilde{r}^{\\text{mkt}}$, where the proporitonality is the regression beta of $\\tilde{r}^{i}$ on $\\tilde{r}^{\\text{mkt}}$.\n",
    "\n",
    "$$\n",
    "\\mathbb{E}\\left[\\tilde{r}_{t}^{i}\\right] = \\beta^{i,\\text{mkt}}\\; \\mathbb{E}\\left[\\tilde{r}_{t}^{\\text{mkt}}\\right]\n",
    "$$\n",
    "\n",
    "Let's examine whether that seems plausible.\n",
    "\n",
    "For each of the $n=25$ test portfolios, run the CAPM time-series regression:\n",
    "\n",
    "$$\n",
    "\\tilde{r}_{t}^{i} = \\alpha^i + \\beta^{i,\\text{mkt}}\\; \\tilde{r}_{t}^{\\text{mkt}} + \\epsilon_{t}^{i}\n",
    "$$"
   ]
  },
  {
   "cell_type": "markdown",
   "id": "49d05468",
   "metadata": {},
   "source": [
    "So you are running 25 separate regressions, each using the $T$-sized sample of time-series data.\n",
    "\n",
    "* Report the betas and alphas for each test asset.\n",
    "\n",
    "* Report the mean-absolute-error of the CAPM:\n",
    "$$\\text{MAE} = \\frac{1}{n}\\sum_{i=1}^n \\left|\\alpha_i\\right|$$\n",
    "\n",
    "If the CAPM were true, what would we expect of the MAE?\n",
    "\n",
    "- Report the estimated $\\beta^{i,\\text{mkt}}$, Treynor Ratio, $\\alpha^i$, and Information Ratio for each of the $n$ regressions.\n",
    "\n",
    "- If the CAPM model were true, what would be true of the Treynor Ratios, alphas, and Information Ratios?"
   ]
  },
  {
   "cell_type": "code",
   "execution_count": 43,
   "id": "69c7ce10",
   "metadata": {},
   "outputs": [],
   "source": [
    "#TODO"
   ]
  },
  {
   "cell_type": "markdown",
   "id": "8c0e7dda",
   "metadata": {},
   "source": [
    "-analysis TODO"
   ]
  },
  {
   "cell_type": "markdown",
   "id": "3aa930af",
   "metadata": {},
   "source": [
    "### 3. Cross-sectional Estimation\n",
    "\n",
    "Let's test the CAPM directly. We already have what we need:\n",
    "\n",
    "- The dependent variable, (y): mean excess returns from each of the $n=25$ portfolios.\n",
    "- The regressor, (x): the market beta from each of the $n=25$ time-series regressions.\n",
    "\n",
    "Then we can estimate the following equation:\n",
    "\n",
    "$$\n",
    "\\underbrace{\\mathbb{E}\\left[\\tilde{r}^{i}\\right]}_{n\\times 1\\text{ data}} = \\textcolor{ForestGreen}{\\underbrace{\\eta}_{\\text{regression intercept}}} + \\underbrace{{\\beta}^{i,\\text{mkt}};}_{n\\times 1\\text{ data}}~ \\textcolor{ForestGreen}{\\underbrace{\\lambda_{\\text{mkt}}}_{\\text{regression estimate}}} + \\textcolor{ForestGreen}{\\underbrace{\\upsilon}_{n\\times 1\\text{ residuals}}}\n",
    "$$\n",
    "\n",
    "Note that\n",
    "- we use sample means as estimates of $\\mathbb{E}\\left[\\tilde{r}^{i}\\right]$. \n",
    "- this is a weird regression! The regressors are the betas from the time-series regressions we already ran!\n",
    "- this is a single regression, where we are combining evidence across all $n=25$ series. Thus, it is a cross-sectional regression!\n",
    "- the notation is trying to emphasize that the intercept is different than the time-series $\\alpha$ and that the regressor coefficient is different than the time-series betas.\n",
    "\n",
    "Report\n",
    "- the R-squared of this regression.\n",
    "- the intercept, $\\eta$. \n",
    "- the regression coefficient, $\\lambda_{\\text{mkt}}$.\n",
    "\n",
    "What would these three statistics be if the CAPM were completely accurate?"
   ]
  },
  {
   "cell_type": "code",
   "execution_count": 44,
   "id": "16a7f5c0",
   "metadata": {},
   "outputs": [],
   "source": [
    "#TODO  "
   ]
  },
  {
   "cell_type": "markdown",
   "id": "876b7212",
   "metadata": {},
   "source": [
    "- analysis TODO"
   ]
  },
  {
   "cell_type": "markdown",
   "id": "0290cd42",
   "metadata": {},
   "source": [
    "### 4. Conclusion\n",
    "\n",
    "Broadly speaking, do these results support DFA's belief in size and value portfolios containing premia unrelated to the market premium?"
   ]
  },
  {
   "cell_type": "markdown",
   "id": "5e49e81b",
   "metadata": {},
   "source": [
    "-analysis TODO"
   ]
  }
 ],
 "metadata": {
  "kernelspec": {
   "display_name": "base",
   "language": "python",
   "name": "python3"
  },
  "language_info": {
   "codemirror_mode": {
    "name": "ipython",
    "version": 3
   },
   "file_extension": ".py",
   "mimetype": "text/x-python",
   "name": "python",
   "nbconvert_exporter": "python",
   "pygments_lexer": "ipython3",
   "version": "3.13.5"
  }
 },
 "nbformat": 4,
 "nbformat_minor": 5
}
