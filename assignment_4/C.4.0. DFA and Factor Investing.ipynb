{
 "cells": [
  {
   "cell_type": "markdown",
   "id": "791f233d",
   "metadata": {},
   "source": [
    "# DFA and Factor Investing\n",
    "\n",
    "## HBS Case\n",
    "### *Dimensional Fund Advisors, 2002 [HBS 9-203-026].\n",
    "\n",
    "*Pages 1-5 of the case are required. Pages 6-11 get into interesting issues around trading (especially adverse selection) and tax considerations. These sections are useful for building market knowledge, but we will not cover them.**"
   ]
  },
  {
   "cell_type": "markdown",
   "id": "8442c275",
   "metadata": {},
   "source": [
    "# 2. The Factors"
   ]
  },
  {
   "cell_type": "markdown",
   "id": "9e393f9f",
   "metadata": {},
   "source": [
    "DFA believes certain stocks have higher expected excess returns. In addition to the overall market equity premium, DFA believes that there is a premium attached to a **size** and **value** factor. Note that these three factors are already listed as **excess** returns.\n",
    "\n",
    "### Data\n",
    "Use the data found in `data/dfa_analysis_data.xlsx`.\n",
    "\n",
    "- Monthly **excess** return data for the overall equity market, $\\tilde{r}^{\\text{mkt}}$. \n",
    "\n",
    "- The sheet also contains data on two additional factors, `SMB` and `HML`, as well as the risk-free rate. \n",
    "\n",
    "- You do not need any of these columns for the homework. Just use the `MKT` column, which is **excess** market returns. (So no need to subtract the risk-free rate.)\n",
    "\n",
    "#### Source:\n",
    "\n",
    "Ken French library, accessible through the pandas-datareader API."
   ]
  },
  {
   "cell_type": "code",
   "execution_count": 8,
   "id": "530721d8",
   "metadata": {},
   "outputs": [
    {
     "data": {
      "text/html": [
       "<div>\n",
       "<style scoped>\n",
       "    .dataframe tbody tr th:only-of-type {\n",
       "        vertical-align: middle;\n",
       "    }\n",
       "\n",
       "    .dataframe tbody tr th {\n",
       "        vertical-align: top;\n",
       "    }\n",
       "\n",
       "    .dataframe thead th {\n",
       "        text-align: right;\n",
       "    }\n",
       "</style>\n",
       "<table border=\"1\" class=\"dataframe\">\n",
       "  <thead>\n",
       "    <tr style=\"text-align: right;\">\n",
       "      <th></th>\n",
       "      <th>Mkt-RF</th>\n",
       "      <th>SMB</th>\n",
       "      <th>HML</th>\n",
       "      <th>RF</th>\n",
       "    </tr>\n",
       "    <tr>\n",
       "      <th>Date</th>\n",
       "      <th></th>\n",
       "      <th></th>\n",
       "      <th></th>\n",
       "      <th></th>\n",
       "    </tr>\n",
       "  </thead>\n",
       "  <tbody>\n",
       "    <tr>\n",
       "      <th>1926-07-31</th>\n",
       "      <td>0.0289</td>\n",
       "      <td>-0.0255</td>\n",
       "      <td>-0.0239</td>\n",
       "      <td>0.0022</td>\n",
       "    </tr>\n",
       "    <tr>\n",
       "      <th>1926-08-31</th>\n",
       "      <td>0.0264</td>\n",
       "      <td>-0.0114</td>\n",
       "      <td>0.0381</td>\n",
       "      <td>0.0025</td>\n",
       "    </tr>\n",
       "    <tr>\n",
       "      <th>1926-09-30</th>\n",
       "      <td>0.0038</td>\n",
       "      <td>-0.0136</td>\n",
       "      <td>0.0005</td>\n",
       "      <td>0.0023</td>\n",
       "    </tr>\n",
       "    <tr>\n",
       "      <th>1926-10-31</th>\n",
       "      <td>-0.0327</td>\n",
       "      <td>-0.0014</td>\n",
       "      <td>0.0082</td>\n",
       "      <td>0.0032</td>\n",
       "    </tr>\n",
       "    <tr>\n",
       "      <th>1926-11-30</th>\n",
       "      <td>0.0254</td>\n",
       "      <td>-0.0011</td>\n",
       "      <td>-0.0061</td>\n",
       "      <td>0.0031</td>\n",
       "    </tr>\n",
       "  </tbody>\n",
       "</table>\n",
       "</div>"
      ],
      "text/plain": [
       "            Mkt-RF     SMB     HML      RF\n",
       "Date                                      \n",
       "1926-07-31  0.0289 -0.0255 -0.0239  0.0022\n",
       "1926-08-31  0.0264 -0.0114  0.0381  0.0025\n",
       "1926-09-30  0.0038 -0.0136  0.0005  0.0023\n",
       "1926-10-31 -0.0327 -0.0014  0.0082  0.0032\n",
       "1926-11-30  0.0254 -0.0011 -0.0061  0.0031"
      ]
     },
     "execution_count": 8,
     "metadata": {},
     "output_type": "execute_result"
    }
   ],
   "source": [
    "import pandas as pd\n",
    "import numpy as np\n",
    "import matplotlib.pyplot as plt\n",
    "import seaborn as sns\n",
    "import statsmodels.api as sm\n",
    "from sklearn.linear_model import LinearRegression\n",
    "from scipy.stats import norm\n",
    "\n",
    "#read data\n",
    "factors = pd.read_excel(\"data/dfa_analysis_data.xlsx\", sheet_name=\"factors\")\n",
    "factors.set_index('Date',inplace=True)\n",
    "tot_ret = pd.read_excel(\"data/dfa_analysis_data.xlsx\", sheet_name=\"portfolios (total returns)\")\n",
    "tot_ret.set_index('Date',inplace=True)\n",
    "factors.head(5)\n"
   ]
  },
  {
   "cell_type": "code",
   "execution_count": 7,
   "id": "ce5642cc",
   "metadata": {},
   "outputs": [
    {
     "data": {
      "text/html": [
       "<div>\n",
       "<style scoped>\n",
       "    .dataframe tbody tr th:only-of-type {\n",
       "        vertical-align: middle;\n",
       "    }\n",
       "\n",
       "    .dataframe tbody tr th {\n",
       "        vertical-align: top;\n",
       "    }\n",
       "\n",
       "    .dataframe thead th {\n",
       "        text-align: right;\n",
       "    }\n",
       "</style>\n",
       "<table border=\"1\" class=\"dataframe\">\n",
       "  <thead>\n",
       "    <tr style=\"text-align: right;\">\n",
       "      <th></th>\n",
       "      <th>SMALL LoBM</th>\n",
       "      <th>ME1 BM2</th>\n",
       "      <th>ME1 BM3</th>\n",
       "      <th>ME1 BM4</th>\n",
       "      <th>SMALL HiBM</th>\n",
       "      <th>ME2 BM1</th>\n",
       "      <th>ME2 BM2</th>\n",
       "      <th>ME2 BM3</th>\n",
       "      <th>ME2 BM4</th>\n",
       "      <th>ME2 BM5</th>\n",
       "      <th>...</th>\n",
       "      <th>ME4 BM1</th>\n",
       "      <th>ME4 BM2</th>\n",
       "      <th>ME4 BM3</th>\n",
       "      <th>ME4 BM4</th>\n",
       "      <th>ME4 BM5</th>\n",
       "      <th>BIG LoBM</th>\n",
       "      <th>ME5 BM2</th>\n",
       "      <th>ME5 BM3</th>\n",
       "      <th>ME5 BM4</th>\n",
       "      <th>BIG HiBM</th>\n",
       "    </tr>\n",
       "    <tr>\n",
       "      <th>Date</th>\n",
       "      <th></th>\n",
       "      <th></th>\n",
       "      <th></th>\n",
       "      <th></th>\n",
       "      <th></th>\n",
       "      <th></th>\n",
       "      <th></th>\n",
       "      <th></th>\n",
       "      <th></th>\n",
       "      <th></th>\n",
       "      <th></th>\n",
       "      <th></th>\n",
       "      <th></th>\n",
       "      <th></th>\n",
       "      <th></th>\n",
       "      <th></th>\n",
       "      <th></th>\n",
       "      <th></th>\n",
       "      <th></th>\n",
       "      <th></th>\n",
       "      <th></th>\n",
       "    </tr>\n",
       "  </thead>\n",
       "  <tbody>\n",
       "    <tr>\n",
       "      <th>1926-07-31</th>\n",
       "      <td>0.058276</td>\n",
       "      <td>-0.017006</td>\n",
       "      <td>0.005118</td>\n",
       "      <td>-0.021477</td>\n",
       "      <td>0.019583</td>\n",
       "      <td>0.012118</td>\n",
       "      <td>0.024107</td>\n",
       "      <td>0.006056</td>\n",
       "      <td>-0.026082</td>\n",
       "      <td>-0.004527</td>\n",
       "      <td>...</td>\n",
       "      <td>0.015376</td>\n",
       "      <td>0.015460</td>\n",
       "      <td>0.013389</td>\n",
       "      <td>0.002765</td>\n",
       "      <td>0.024678</td>\n",
       "      <td>0.033248</td>\n",
       "      <td>0.060909</td>\n",
       "      <td>0.020285</td>\n",
       "      <td>0.031263</td>\n",
       "      <td>0.005623</td>\n",
       "    </tr>\n",
       "    <tr>\n",
       "      <th>1926-08-31</th>\n",
       "      <td>-0.020206</td>\n",
       "      <td>-0.080282</td>\n",
       "      <td>0.013968</td>\n",
       "      <td>0.021483</td>\n",
       "      <td>0.085104</td>\n",
       "      <td>0.023620</td>\n",
       "      <td>-0.007525</td>\n",
       "      <td>0.038984</td>\n",
       "      <td>0.002299</td>\n",
       "      <td>0.062937</td>\n",
       "      <td>...</td>\n",
       "      <td>0.013858</td>\n",
       "      <td>0.038587</td>\n",
       "      <td>0.019738</td>\n",
       "      <td>0.021336</td>\n",
       "      <td>0.053422</td>\n",
       "      <td>0.010169</td>\n",
       "      <td>0.041975</td>\n",
       "      <td>0.019769</td>\n",
       "      <td>0.054924</td>\n",
       "      <td>0.077576</td>\n",
       "    </tr>\n",
       "    <tr>\n",
       "      <th>1926-09-30</th>\n",
       "      <td>-0.048291</td>\n",
       "      <td>-0.026806</td>\n",
       "      <td>-0.043417</td>\n",
       "      <td>-0.032683</td>\n",
       "      <td>0.008586</td>\n",
       "      <td>-0.026849</td>\n",
       "      <td>-0.005252</td>\n",
       "      <td>0.010789</td>\n",
       "      <td>-0.032877</td>\n",
       "      <td>-0.009419</td>\n",
       "      <td>...</td>\n",
       "      <td>0.016897</td>\n",
       "      <td>-0.005246</td>\n",
       "      <td>-0.017724</td>\n",
       "      <td>0.014806</td>\n",
       "      <td>0.008730</td>\n",
       "      <td>-0.012951</td>\n",
       "      <td>0.036610</td>\n",
       "      <td>0.001384</td>\n",
       "      <td>-0.007497</td>\n",
       "      <td>-0.024284</td>\n",
       "    </tr>\n",
       "    <tr>\n",
       "      <th>1926-10-31</th>\n",
       "      <td>-0.093633</td>\n",
       "      <td>-0.035519</td>\n",
       "      <td>-0.035024</td>\n",
       "      <td>0.034413</td>\n",
       "      <td>-0.025452</td>\n",
       "      <td>-0.028014</td>\n",
       "      <td>-0.044191</td>\n",
       "      <td>-0.050767</td>\n",
       "      <td>-0.080271</td>\n",
       "      <td>-0.013213</td>\n",
       "      <td>...</td>\n",
       "      <td>-0.039136</td>\n",
       "      <td>-0.026528</td>\n",
       "      <td>-0.021058</td>\n",
       "      <td>-0.032532</td>\n",
       "      <td>-0.053525</td>\n",
       "      <td>-0.027382</td>\n",
       "      <td>-0.030061</td>\n",
       "      <td>-0.022467</td>\n",
       "      <td>-0.046725</td>\n",
       "      <td>-0.058129</td>\n",
       "    </tr>\n",
       "    <tr>\n",
       "      <th>1926-11-30</th>\n",
       "      <td>0.055888</td>\n",
       "      <td>0.041877</td>\n",
       "      <td>0.024384</td>\n",
       "      <td>-0.044495</td>\n",
       "      <td>0.005110</td>\n",
       "      <td>0.031023</td>\n",
       "      <td>-0.017317</td>\n",
       "      <td>0.030425</td>\n",
       "      <td>0.049538</td>\n",
       "      <td>0.027292</td>\n",
       "      <td>...</td>\n",
       "      <td>0.034492</td>\n",
       "      <td>0.023823</td>\n",
       "      <td>0.037315</td>\n",
       "      <td>0.051102</td>\n",
       "      <td>0.018213</td>\n",
       "      <td>0.044331</td>\n",
       "      <td>0.025355</td>\n",
       "      <td>0.015280</td>\n",
       "      <td>0.036596</td>\n",
       "      <td>0.025636</td>\n",
       "    </tr>\n",
       "  </tbody>\n",
       "</table>\n",
       "<p>5 rows × 25 columns</p>\n",
       "</div>"
      ],
      "text/plain": [
       "            SMALL LoBM   ME1 BM2   ME1 BM3   ME1 BM4  SMALL HiBM   ME2 BM1  \\\n",
       "Date                                                                         \n",
       "1926-07-31    0.058276 -0.017006  0.005118 -0.021477    0.019583  0.012118   \n",
       "1926-08-31   -0.020206 -0.080282  0.013968  0.021483    0.085104  0.023620   \n",
       "1926-09-30   -0.048291 -0.026806 -0.043417 -0.032683    0.008586 -0.026849   \n",
       "1926-10-31   -0.093633 -0.035519 -0.035024  0.034413   -0.025452 -0.028014   \n",
       "1926-11-30    0.055888  0.041877  0.024384 -0.044495    0.005110  0.031023   \n",
       "\n",
       "             ME2 BM2   ME2 BM3   ME2 BM4   ME2 BM5  ...   ME4 BM1   ME4 BM2  \\\n",
       "Date                                                ...                       \n",
       "1926-07-31  0.024107  0.006056 -0.026082 -0.004527  ...  0.015376  0.015460   \n",
       "1926-08-31 -0.007525  0.038984  0.002299  0.062937  ...  0.013858  0.038587   \n",
       "1926-09-30 -0.005252  0.010789 -0.032877 -0.009419  ...  0.016897 -0.005246   \n",
       "1926-10-31 -0.044191 -0.050767 -0.080271 -0.013213  ... -0.039136 -0.026528   \n",
       "1926-11-30 -0.017317  0.030425  0.049538  0.027292  ...  0.034492  0.023823   \n",
       "\n",
       "             ME4 BM3   ME4 BM4   ME4 BM5  BIG LoBM   ME5 BM2   ME5 BM3  \\\n",
       "Date                                                                     \n",
       "1926-07-31  0.013389  0.002765  0.024678  0.033248  0.060909  0.020285   \n",
       "1926-08-31  0.019738  0.021336  0.053422  0.010169  0.041975  0.019769   \n",
       "1926-09-30 -0.017724  0.014806  0.008730 -0.012951  0.036610  0.001384   \n",
       "1926-10-31 -0.021058 -0.032532 -0.053525 -0.027382 -0.030061 -0.022467   \n",
       "1926-11-30  0.037315  0.051102  0.018213  0.044331  0.025355  0.015280   \n",
       "\n",
       "             ME5 BM4  BIG HiBM  \n",
       "Date                            \n",
       "1926-07-31  0.031263  0.005623  \n",
       "1926-08-31  0.054924  0.077576  \n",
       "1926-09-30 -0.007497 -0.024284  \n",
       "1926-10-31 -0.046725 -0.058129  \n",
       "1926-11-30  0.036596  0.025636  \n",
       "\n",
       "[5 rows x 25 columns]"
      ]
     },
     "execution_count": 7,
     "metadata": {},
     "output_type": "execute_result"
    }
   ],
   "source": [
    "tot_ret.head(5)"
   ]
  },
  {
   "cell_type": "markdown",
   "id": "92ecce9a",
   "metadata": {},
   "source": [
    "### 1. The Factors\n",
    "\n",
    "Calculate their univariate performance statistics: \n",
    "\n",
    "* mean\n",
    "* volatility\n",
    "* Sharpe\n",
    "* VaR(.05)\n",
    "\n",
    "Report these for the following three subsamples:\n",
    "\n",
    "* Beginning - 1980\n",
    "* 1981 - 2001\n",
    "* 2002 - End\n",
    "\n"
   ]
  },
  {
   "cell_type": "code",
   "execution_count": 21,
   "id": "c49248d8",
   "metadata": {},
   "outputs": [],
   "source": [
    "#complete set-up\n",
    "#split factor data\n",
    "factors_1980 = factors.loc[:\"1980-12-31\"]\n",
    "factors_1981_2001 = factors.loc[\"1981-01-01\":\"2001-12-31\"]\n",
    "factors_2002_2025 = factors.loc[\"2002-01-01\":]"
   ]
  },
  {
   "cell_type": "code",
   "execution_count": null,
   "id": "64b63203",
   "metadata": {},
   "outputs": [],
   "source": [
    "#TODO"
   ]
  },
  {
   "cell_type": "markdown",
   "id": "24e0663b",
   "metadata": {},
   "source": [
    "### 2. \n",
    "\n",
    "Based on the factor statistics above, answer the following.\n",
    "\n",
    "- Does each factor have a premium (positive expected excess return) in each subsample?\n",
    "\n",
    "- Does the premium to the size factor get smaller after 1980?\n",
    "\n",
    "- Does the premium to the value factor get smaller during the 1990's?\n",
    "\n",
    "- How have the factors performed since the time of the case, (2002-present)?"
   ]
  },
  {
   "cell_type": "code",
   "execution_count": null,
   "id": "900d0da3",
   "metadata": {},
   "outputs": [],
   "source": [
    "#TODO"
   ]
  },
  {
   "cell_type": "markdown",
   "id": "ffbb0ae3",
   "metadata": {},
   "source": [
    "-Analysis TODO"
   ]
  },
  {
   "cell_type": "markdown",
   "id": "72ad03ba",
   "metadata": {},
   "source": [
    "### 3.\n",
    "\n",
    "The factors are constructed in such a way as to reduce correlation between them.\n",
    "\n",
    "* Report the correlation matrix across the three factors. \n",
    "\n",
    "* Does the construction method succeed in keeping correlations small? \n",
    "\n",
    "* Does it achieve this in each subsample?"
   ]
  },
  {
   "cell_type": "code",
   "execution_count": null,
   "id": "4c8c3f9d",
   "metadata": {},
   "outputs": [],
   "source": [
    "#TODO"
   ]
  },
  {
   "cell_type": "markdown",
   "id": "f0acf89f",
   "metadata": {},
   "source": [
    "-Analysis TODO"
   ]
  },
  {
   "cell_type": "markdown",
   "id": "609f8537",
   "metadata": {},
   "source": [
    "### 4. \n",
    "\n",
    "* Plot the cumulative returns of the three factors. \n",
    "\n",
    "* Create plots for the 1981-2001 subsample as well as the 2002-Present subsample."
   ]
  },
  {
   "cell_type": "code",
   "execution_count": null,
   "id": "9bc70db6",
   "metadata": {},
   "outputs": [],
   "source": [
    "#TODO"
   ]
  },
  {
   "cell_type": "markdown",
   "id": "ffc5be99",
   "metadata": {},
   "source": [
    "### 5.\n",
    "\n",
    "* Does it appear that all three factors were valuable in 1981-2001? \n",
    "* And post-2001? \n",
    "\n",
    "Would you advise DFA to continue emphasizing all three factors?"
   ]
  },
  {
   "cell_type": "markdown",
   "id": "1e4f3154",
   "metadata": {},
   "source": [
    "-TODO"
   ]
  },
  {
   "cell_type": "markdown",
   "id": "3709d188",
   "metadata": {},
   "source": [
    "# 3. CAPM"
   ]
  },
  {
   "cell_type": "markdown",
   "id": "f136661e",
   "metadata": {},
   "source": [
    "DFA believes that premia in stocks and stock portfolios is related to the three factors. \n",
    "\n",
    "Let's test `25` equity portfolios that span a wide range of size and value measures.\n",
    "\n",
    "#### Footnote\n",
    "For more on the portfolio construction, see the description at Ken French's data library. \n",
    "https://mba.tuck.dartmouth.edu/pages/faculty/ken.french/Data_Library/tw_5_ports.html\n",
    "\n",
    "#### Portfolios\n",
    "Monthly **total** return data on `25` equity portfolios sorted by their size-value characteristics. Denote these as $\\vec{r}^{i}$, for $n=1, \\ldots, 25$.\n",
    "- Note that while the factors were given as excess returns, the portfolios are total returns.\n",
    "- For this entire problem, focus on the 1981-Present subsample.\n",
    "\n",
    "### 1. Summary Statistics. \n",
    "\n",
    "For each portfolio, \n",
    "- Use the Risk-Free rate column in the factors tab to convert these total returns to excess returns.\n",
    "- Calculate the (annualized) univariate statistics from `1.1`."
   ]
  },
  {
   "cell_type": "code",
   "execution_count": null,
   "id": "22e631e5",
   "metadata": {},
   "outputs": [],
   "source": [
    "#TODO"
   ]
  },
  {
   "cell_type": "markdown",
   "id": "5f848ae8",
   "metadata": {},
   "source": [
    "### 2. CAPM\n",
    "\n",
    "The Capital Asset Pricing Model (CAPM) asserts that an asset (or portfolio's) expected excess return is completely a function of its beta to the equity market index (`SPY`, or in this case, `MKT`.) \n",
    "\n",
    "Specifically, it asserts that, for any excess return, $\\tilde{r}^{i}$, its mean is proportional to the mean excess return of the market, $\\tilde{r}^{\\text{mkt}}$, where the proporitonality is the regression beta of $\\tilde{r}^{i}$ on $\\tilde{r}^{\\text{mkt}}$.\n",
    "\n",
    "$$\n",
    "\\mathbb{E}\\left[\\tilde{r}_{t}^{i}\\right] = \\beta^{i,\\text{mkt}}\\; \\mathbb{E}\\left[\\tilde{r}_{t}^{\\text{mkt}}\\right]\n",
    "$$\n",
    "\n",
    "Let's examine whether that seems plausible.\n",
    "\n",
    "For each of the $n=25$ test portfolios, run the CAPM time-series regression:\n",
    "\n",
    "$$\n",
    "\\tilde{r}_{t}^{i} = \\alpha^i + \\beta^{i,\\text{mkt}}\\; \\tilde{r}_{t}^{\\text{mkt}} + \\epsilon_{t}^{i}\n",
    "$$"
   ]
  },
  {
   "cell_type": "markdown",
   "id": "49d05468",
   "metadata": {},
   "source": [
    "So you are running 25 separate regressions, each using the $T$-sized sample of time-series data.\n",
    "\n",
    "* Report the betas and alphas for each test asset.\n",
    "\n",
    "* Report the mean-absolute-error of the CAPM:\n",
    "$$\\text{MAE} = \\frac{1}{n}\\sum_{i=1}^n \\left|\\alpha_i\\right|$$\n",
    "\n",
    "If the CAPM were true, what would we expect of the MAE?\n",
    "\n",
    "- Report the estimated $\\beta^{i,\\text{mkt}}$, Treynor Ratio, $\\alpha^i$, and Information Ratio for each of the $n$ regressions.\n",
    "\n",
    "- If the CAPM model were true, what would be true of the Treynor Ratios, alphas, and Information Ratios?"
   ]
  },
  {
   "cell_type": "code",
   "execution_count": null,
   "id": "69c7ce10",
   "metadata": {},
   "outputs": [],
   "source": [
    "#TODO"
   ]
  },
  {
   "cell_type": "markdown",
   "id": "8c0e7dda",
   "metadata": {},
   "source": [
    "-analysis TODO"
   ]
  },
  {
   "cell_type": "markdown",
   "id": "3aa930af",
   "metadata": {},
   "source": [
    "### 3. Cross-sectional Estimation\n",
    "\n",
    "Let's test the CAPM directly. We already have what we need:\n",
    "\n",
    "- The dependent variable, (y): mean excess returns from each of the $n=25$ portfolios.\n",
    "- The regressor, (x): the market beta from each of the $n=25$ time-series regressions.\n",
    "\n",
    "Then we can estimate the following equation:\n",
    "\n",
    "$$\n",
    "\\underbrace{\\mathbb{E}\\left[\\tilde{r}^{i}\\right]}_{n\\times 1\\text{ data}} = \\textcolor{ForestGreen}{\\underbrace{\\eta}_{\\text{regression intercept}}} + \\underbrace{{\\beta}^{i,\\text{mkt}};}_{n\\times 1\\text{ data}}~ \\textcolor{ForestGreen}{\\underbrace{\\lambda_{\\text{mkt}}}_{\\text{regression estimate}}} + \\textcolor{ForestGreen}{\\underbrace{\\upsilon}_{n\\times 1\\text{ residuals}}}\n",
    "$$\n",
    "\n",
    "Note that\n",
    "- we use sample means as estimates of $\\mathbb{E}\\left[\\tilde{r}^{i}\\right]$. \n",
    "- this is a weird regression! The regressors are the betas from the time-series regressions we already ran!\n",
    "- this is a single regression, where we are combining evidence across all $n=25$ series. Thus, it is a cross-sectional regression!\n",
    "- the notation is trying to emphasize that the intercept is different than the time-series $\\alpha$ and that the regressor coefficient is different than the time-series betas.\n",
    "\n",
    "Report\n",
    "- the R-squared of this regression.\n",
    "- the intercept, $\\eta$. \n",
    "- the regression coefficient, $\\lambda_{\\text{mkt}}$.\n",
    "\n",
    "What would these three statistics be if the CAPM were completely accurate?"
   ]
  },
  {
   "cell_type": "code",
   "execution_count": null,
   "id": "16a7f5c0",
   "metadata": {},
   "outputs": [],
   "source": [
    "#TODO  "
   ]
  },
  {
   "cell_type": "markdown",
   "id": "876b7212",
   "metadata": {},
   "source": [
    "- analysis TODO"
   ]
  },
  {
   "cell_type": "markdown",
   "id": "0290cd42",
   "metadata": {},
   "source": [
    "### 4. Conclusion\n",
    "\n",
    "Broadly speaking, do these results support DFA's belief in size and value portfolios containing premia unrelated to the market premium?"
   ]
  },
  {
   "cell_type": "markdown",
   "id": "5e49e81b",
   "metadata": {},
   "source": [
    "-analysis TODO"
   ]
  }
 ],
 "metadata": {
  "kernelspec": {
   "display_name": "base",
   "language": "python",
   "name": "python3"
  },
  "language_info": {
   "codemirror_mode": {
    "name": "ipython",
    "version": 3
   },
   "file_extension": ".py",
   "mimetype": "text/x-python",
   "name": "python",
   "nbconvert_exporter": "python",
   "pygments_lexer": "ipython3",
   "version": "3.13.5"
  }
 },
 "nbformat": 4,
 "nbformat_minor": 5
}
